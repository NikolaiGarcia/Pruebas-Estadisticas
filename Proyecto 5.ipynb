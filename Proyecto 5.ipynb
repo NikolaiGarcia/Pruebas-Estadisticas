{
 "cells": [
  {
   "cell_type": "markdown",
   "metadata": {},
   "source": [
    "Hola **Nikolai**!\n",
    "\n",
    "Soy **Patricio Requena** 👋. Es un placer ser el revisor de tu proyecto el día de hoy!\n",
    "\n",
    "Revisaré tu proyecto detenidamente con el objetivo de ayudarte a mejorar y perfeccionar tus habilidades. Durante mi revisión, identificaré áreas donde puedas hacer mejoras en tu código, señalando específicamente qué y cómo podrías ajustar para optimizar el rendimiento y la claridad de tu proyecto. Además, es importante para mí destacar los aspectos que has manejado excepcionalmente bien. Reconocer tus fortalezas te ayudará a entender qué técnicas y métodos están funcionando a tu favor y cómo puedes aplicarlos en futuras tareas. \n",
    "\n",
    "_**Recuerda que al final de este notebook encontrarás un comentario general de mi parte**_, empecemos!\n",
    "\n",
    "Encontrarás mis comentarios dentro de cajas verdes, amarillas o rojas, ⚠️ **por favor, no muevas, modifiques o borres mis comentarios** ⚠️:\n",
    "\n",
    "\n",
    "<div class=\"alert alert-block alert-success\">\n",
    "<b>Comentario del revisor</b> <a class=“tocSkip”></a>\n",
    "Si todo está perfecto.\n",
    "</div>\n",
    "\n",
    "<div class=\"alert alert-block alert-warning\">\n",
    "<b>Comentario del revisor</b> <a class=“tocSkip”></a>\n",
    "Si tu código está bien pero se puede mejorar o hay algún detalle que le hace falta.\n",
    "</div>\n",
    "\n",
    "<div class=\"alert alert-block alert-danger\">\n",
    "<b>Comentario del revisor</b> <a class=“tocSkip”></a>\n",
    "Si de pronto hace falta algo o existe algún problema con tu código o conclusiones.\n",
    "</div>\n",
    "\n",
    "Puedes responderme de esta forma:\n",
    "<div class=\"alert alert-block alert-info\">\n",
    "<b>Respuesta del estudiante</b> <a class=“tocSkip”></a>\n",
    "</div>"
   ]
  },
  {
   "cell_type": "markdown",
   "metadata": {
    "id": "3rYiDeEH0q0f"
   },
   "source": [
    "# ¿Cuál es la mejor tarifa?\n",
    "\n",
    "Trabajas como analista para el operador de telecomunicaciones Megaline. La empresa ofrece a sus clientes dos tarifas de prepago, Surf y Ultimate. El departamento comercial quiere saber cuál de las tarifas genera más ingresos para poder ajustar el presupuesto de publicidad.\n",
    "\n",
    "Vas a realizar un análisis preliminar de las tarifas basado en una selección de clientes relativamente pequeña. Tendrás los datos de 500 clientes de Megaline: quiénes son los clientes, de dónde son, qué tarifa usan, así como la cantidad de llamadas que hicieron y los mensajes de texto que enviaron en 2018. Tu trabajo es analizar el comportamiento de los clientes y determinar qué tarifa de prepago genera más ingresos."
   ]
  },
  {
   "cell_type": "markdown",
   "metadata": {
    "id": "VNddPNRQ0q0w"
   },
   "source": [
    "[Te proporcionamos algunos comentarios para orientarte mientras completas este proyecto. Pero debes asegurarte de eliminar todos los comentarios entre corchetes antes de entregar tu proyecto.]\n",
    "\n",
    "[Antes de sumergirte en el análisis de datos, explica por tu propia cuenta el propósito del proyecto y las acciones que planeas realizar.]\n",
    "\n",
    "[Ten en cuenta que estudiar, modificar y analizar datos es un proceso iterativo. Es normal volver a los pasos anteriores y corregirlos/ampliarlos para permitir nuevos pasos.]"
   ]
  },
  {
   "cell_type": "markdown",
   "metadata": {},
   "source": [
    "====================================================================================================================================================\n",
    "\n",
    "El objetivo es averiguar si hay diferencias significativas entre los ingresos de los planes `Surf` y `Ultimate` así como ver si el comportamiento del área de `NY-NJ` es parecido al resto de los datos recolectados o diferente.\n",
    "\n",
    "Para eso se necesitará hacer un procesamiento de los datos, hacer gráficos y sacar medidas estadísticas para dar una intuición del comportamiento de los datos, y al final aplicar varias pruebas estadísticas para comprobar si las diferencias entre los distintos grupos (`Surf-Ultimate` y `NYNJ-resto`) son lo suficientemente significativas o se comportan de manera parecida."
   ]
  },
  {
   "cell_type": "markdown",
   "metadata": {
    "id": "MQi4IPy70q0y"
   },
   "source": [
    "## Inicialización"
   ]
  },
  {
   "cell_type": "code",
   "execution_count": 1,
   "metadata": {
    "id": "MtYIuBxu0q0z"
   },
   "outputs": [],
   "source": [
    "# Cargar todas las librerías\n",
    "import numpy as np\n",
    "import pandas as pd\n",
    "from matplotlib import pyplot as plt\n",
    "import scipy.stats as st"
   ]
  },
  {
   "cell_type": "markdown",
   "metadata": {
    "id": "4ysWWC5i0q00"
   },
   "source": [
    "### Cargar datos"
   ]
  },
  {
   "cell_type": "code",
   "execution_count": 2,
   "metadata": {
    "id": "CCqPW7rS0q01"
   },
   "outputs": [],
   "source": [
    "# Carga los archivos de datos en diferentes DataFrames\n",
    "\n",
    "df_calls = pd.read_csv(\"datasets/megaline_calls.csv\")\n",
    "df_internet = pd.read_csv(\"datasets/megaline_internet.csv\")\n",
    "df_messages = pd.read_csv(\"datasets/megaline_messages.csv\")\n",
    "df_plans = pd.read_csv(\"datasets/megaline_plans.csv\")\n",
    "df_users = pd.read_csv(\"datasets/megaline_users.csv\")"
   ]
  },
  {
   "cell_type": "markdown",
   "metadata": {},
   "source": [
    "<div class=\"alert alert-block alert-success\">\n",
    "<b>Comentario del revisor (1ra Iteracion)</b> <a class=“tocSkip”></a>\n",
    "\n",
    "Buen trabajo realizando la importación de librerías y carga de datos en celdas separadas, esto ayuda a que la lectura y seguimiento del notebook sea más amigable\n",
    "</div>"
   ]
  },
  {
   "cell_type": "markdown",
   "metadata": {
    "id": "69qqoJ3r0q01"
   },
   "source": [
    "## Preparar los datos"
   ]
  },
  {
   "cell_type": "markdown",
   "metadata": {
    "id": "ohBhimvH0q01"
   },
   "source": [
    "### Tarifas (Listo)"
   ]
  },
  {
   "cell_type": "code",
   "execution_count": 3,
   "metadata": {
    "id": "GptqP3Q40q02"
   },
   "outputs": [
    {
     "name": "stdout",
     "output_type": "stream",
     "text": [
      "<class 'pandas.core.frame.DataFrame'>\n",
      "RangeIndex: 2 entries, 0 to 1\n",
      "Data columns (total 8 columns):\n",
      " #   Column                 Non-Null Count  Dtype  \n",
      "---  ------                 --------------  -----  \n",
      " 0   messages_included      2 non-null      int64  \n",
      " 1   mb_per_month_included  2 non-null      int64  \n",
      " 2   minutes_included       2 non-null      int64  \n",
      " 3   usd_monthly_pay        2 non-null      int64  \n",
      " 4   usd_per_gb             2 non-null      int64  \n",
      " 5   usd_per_message        2 non-null      float64\n",
      " 6   usd_per_minute         2 non-null      float64\n",
      " 7   plan_name              2 non-null      object \n",
      "dtypes: float64(2), int64(5), object(1)\n",
      "memory usage: 260.0+ bytes\n"
     ]
    }
   ],
   "source": [
    "# Imprime la información general/resumida sobre el DataFrame de las tarifas\n",
    "\n",
    "df_plans.info()"
   ]
  },
  {
   "cell_type": "code",
   "execution_count": 4,
   "metadata": {
    "id": "64xzjwL70q02"
   },
   "outputs": [
    {
     "data": {
      "text/html": [
       "<div>\n",
       "<style scoped>\n",
       "    .dataframe tbody tr th:only-of-type {\n",
       "        vertical-align: middle;\n",
       "    }\n",
       "\n",
       "    .dataframe tbody tr th {\n",
       "        vertical-align: top;\n",
       "    }\n",
       "\n",
       "    .dataframe thead th {\n",
       "        text-align: right;\n",
       "    }\n",
       "</style>\n",
       "<table border=\"1\" class=\"dataframe\">\n",
       "  <thead>\n",
       "    <tr style=\"text-align: right;\">\n",
       "      <th></th>\n",
       "      <th>messages_included</th>\n",
       "      <th>mb_per_month_included</th>\n",
       "      <th>minutes_included</th>\n",
       "      <th>usd_monthly_pay</th>\n",
       "      <th>usd_per_gb</th>\n",
       "      <th>usd_per_message</th>\n",
       "      <th>usd_per_minute</th>\n",
       "      <th>plan_name</th>\n",
       "    </tr>\n",
       "  </thead>\n",
       "  <tbody>\n",
       "    <tr>\n",
       "      <th>0</th>\n",
       "      <td>50</td>\n",
       "      <td>15360</td>\n",
       "      <td>500</td>\n",
       "      <td>20</td>\n",
       "      <td>10</td>\n",
       "      <td>0.03</td>\n",
       "      <td>0.03</td>\n",
       "      <td>surf</td>\n",
       "    </tr>\n",
       "    <tr>\n",
       "      <th>1</th>\n",
       "      <td>1000</td>\n",
       "      <td>30720</td>\n",
       "      <td>3000</td>\n",
       "      <td>70</td>\n",
       "      <td>7</td>\n",
       "      <td>0.01</td>\n",
       "      <td>0.01</td>\n",
       "      <td>ultimate</td>\n",
       "    </tr>\n",
       "  </tbody>\n",
       "</table>\n",
       "</div>"
      ],
      "text/plain": [
       "   messages_included  mb_per_month_included  minutes_included  \\\n",
       "0                 50                  15360               500   \n",
       "1               1000                  30720              3000   \n",
       "\n",
       "   usd_monthly_pay  usd_per_gb  usd_per_message  usd_per_minute plan_name  \n",
       "0               20          10             0.03            0.03      surf  \n",
       "1               70           7             0.01            0.01  ultimate  "
      ]
     },
     "execution_count": 4,
     "metadata": {},
     "output_type": "execute_result"
    }
   ],
   "source": [
    "# Imprime una muestra de los datos para las tarifas\n",
    "\n",
    "df_plans"
   ]
  },
  {
   "cell_type": "markdown",
   "metadata": {},
   "source": [
    "Aquí vemos la descripción de los planes, la información está completa"
   ]
  },
  {
   "cell_type": "markdown",
   "metadata": {
    "id": "R3C05i1l0q03"
   },
   "source": [
    "#### Corregir datos"
   ]
  },
  {
   "cell_type": "markdown",
   "metadata": {},
   "source": [
    "~~No hay problemas obvios con los datos.~~\n",
    "La columna de `mb_per_month_included` sería más útil si estuviera en GB para nuestro análisis"
   ]
  },
  {
   "cell_type": "code",
   "execution_count": 5,
   "metadata": {},
   "outputs": [],
   "source": [
    "df_plans['mb_per_month_included'] = df_plans['mb_per_month_included']//1024 #convertimos a GB\n",
    "df_plans = df_plans.rename(columns={'mb_per_month_included':'gb_per_month_included'}) #renombramos la columna a gb"
   ]
  },
  {
   "cell_type": "code",
   "execution_count": 6,
   "metadata": {},
   "outputs": [
    {
     "data": {
      "text/html": [
       "<div>\n",
       "<style scoped>\n",
       "    .dataframe tbody tr th:only-of-type {\n",
       "        vertical-align: middle;\n",
       "    }\n",
       "\n",
       "    .dataframe tbody tr th {\n",
       "        vertical-align: top;\n",
       "    }\n",
       "\n",
       "    .dataframe thead th {\n",
       "        text-align: right;\n",
       "    }\n",
       "</style>\n",
       "<table border=\"1\" class=\"dataframe\">\n",
       "  <thead>\n",
       "    <tr style=\"text-align: right;\">\n",
       "      <th></th>\n",
       "      <th>messages_included</th>\n",
       "      <th>gb_per_month_included</th>\n",
       "      <th>minutes_included</th>\n",
       "      <th>usd_monthly_pay</th>\n",
       "      <th>usd_per_gb</th>\n",
       "      <th>usd_per_message</th>\n",
       "      <th>usd_per_minute</th>\n",
       "      <th>plan_name</th>\n",
       "    </tr>\n",
       "  </thead>\n",
       "  <tbody>\n",
       "    <tr>\n",
       "      <th>0</th>\n",
       "      <td>50</td>\n",
       "      <td>15</td>\n",
       "      <td>500</td>\n",
       "      <td>20</td>\n",
       "      <td>10</td>\n",
       "      <td>0.03</td>\n",
       "      <td>0.03</td>\n",
       "      <td>surf</td>\n",
       "    </tr>\n",
       "    <tr>\n",
       "      <th>1</th>\n",
       "      <td>1000</td>\n",
       "      <td>30</td>\n",
       "      <td>3000</td>\n",
       "      <td>70</td>\n",
       "      <td>7</td>\n",
       "      <td>0.01</td>\n",
       "      <td>0.01</td>\n",
       "      <td>ultimate</td>\n",
       "    </tr>\n",
       "  </tbody>\n",
       "</table>\n",
       "</div>"
      ],
      "text/plain": [
       "   messages_included  gb_per_month_included  minutes_included  \\\n",
       "0                 50                     15               500   \n",
       "1               1000                     30              3000   \n",
       "\n",
       "   usd_monthly_pay  usd_per_gb  usd_per_message  usd_per_minute plan_name  \n",
       "0               20          10             0.03            0.03      surf  \n",
       "1               70           7             0.01            0.01  ultimate  "
      ]
     },
     "execution_count": 6,
     "metadata": {},
     "output_type": "execute_result"
    }
   ],
   "source": [
    "df_plans"
   ]
  },
  {
   "cell_type": "markdown",
   "metadata": {
    "id": "LJir7bml0q03"
   },
   "source": [
    "#### Enriquecer los datos"
   ]
  },
  {
   "cell_type": "markdown",
   "metadata": {},
   "source": [
    "En mi opinión, no hay nada que enriquecer"
   ]
  },
  {
   "cell_type": "markdown",
   "metadata": {},
   "source": [
    "<div class=\"alert alert-block alert-danger\">\n",
    "<b>Comentario del revisor (1ra Iteracion)</b> <a class=“tocSkip”></a>\n",
    "\n",
    "Te recomiendo en esta sección hacer la transformación de mb a gb de la columna mb_per_month_included ya que el resto esta en función de GB y no de mb\n",
    "</div>"
   ]
  },
  {
   "cell_type": "markdown",
   "metadata": {},
   "source": [
    "<div class=\"alert alert-block alert-info\">\n",
    "<b>Respuesta del estudiante</b> <a class=“tocSkip”></a>\n",
    "Convertido\n",
    "</div>"
   ]
  },
  {
   "cell_type": "markdown",
   "metadata": {
    "id": "1n2X6WXf0q04"
   },
   "source": [
    "### Usuarios/as"
   ]
  },
  {
   "cell_type": "code",
   "execution_count": 7,
   "metadata": {
    "id": "2NgjWFqx0q05"
   },
   "outputs": [
    {
     "name": "stdout",
     "output_type": "stream",
     "text": [
      "<class 'pandas.core.frame.DataFrame'>\n",
      "RangeIndex: 500 entries, 0 to 499\n",
      "Data columns (total 8 columns):\n",
      " #   Column      Non-Null Count  Dtype \n",
      "---  ------      --------------  ----- \n",
      " 0   user_id     500 non-null    int64 \n",
      " 1   first_name  500 non-null    object\n",
      " 2   last_name   500 non-null    object\n",
      " 3   age         500 non-null    int64 \n",
      " 4   city        500 non-null    object\n",
      " 5   reg_date    500 non-null    object\n",
      " 6   plan        500 non-null    object\n",
      " 7   churn_date  34 non-null     object\n",
      "dtypes: int64(2), object(6)\n",
      "memory usage: 31.4+ KB\n"
     ]
    }
   ],
   "source": [
    "# Imprime la información general/resumida sobre el DataFrame de usuarios\n",
    "\n",
    "df_users.info()"
   ]
  },
  {
   "cell_type": "code",
   "execution_count": 8,
   "metadata": {
    "id": "1IN1L9uh0q05"
   },
   "outputs": [
    {
     "data": {
      "text/html": [
       "<div>\n",
       "<style scoped>\n",
       "    .dataframe tbody tr th:only-of-type {\n",
       "        vertical-align: middle;\n",
       "    }\n",
       "\n",
       "    .dataframe tbody tr th {\n",
       "        vertical-align: top;\n",
       "    }\n",
       "\n",
       "    .dataframe thead th {\n",
       "        text-align: right;\n",
       "    }\n",
       "</style>\n",
       "<table border=\"1\" class=\"dataframe\">\n",
       "  <thead>\n",
       "    <tr style=\"text-align: right;\">\n",
       "      <th></th>\n",
       "      <th>user_id</th>\n",
       "      <th>first_name</th>\n",
       "      <th>last_name</th>\n",
       "      <th>age</th>\n",
       "      <th>city</th>\n",
       "      <th>reg_date</th>\n",
       "      <th>plan</th>\n",
       "      <th>churn_date</th>\n",
       "    </tr>\n",
       "  </thead>\n",
       "  <tbody>\n",
       "    <tr>\n",
       "      <th>361</th>\n",
       "      <td>1361</td>\n",
       "      <td>Jacelyn</td>\n",
       "      <td>Hoffman</td>\n",
       "      <td>45</td>\n",
       "      <td>Birmingham-Hoover, AL MSA</td>\n",
       "      <td>2018-04-14</td>\n",
       "      <td>surf</td>\n",
       "      <td>NaN</td>\n",
       "    </tr>\n",
       "    <tr>\n",
       "      <th>73</th>\n",
       "      <td>1073</td>\n",
       "      <td>Grady</td>\n",
       "      <td>Crawford</td>\n",
       "      <td>30</td>\n",
       "      <td>Chicago-Naperville-Elgin, IL-IN-WI MSA</td>\n",
       "      <td>2018-04-06</td>\n",
       "      <td>surf</td>\n",
       "      <td>NaN</td>\n",
       "    </tr>\n",
       "    <tr>\n",
       "      <th>374</th>\n",
       "      <td>1374</td>\n",
       "      <td>Ching</td>\n",
       "      <td>Watts</td>\n",
       "      <td>55</td>\n",
       "      <td>Louisville/Jefferson County, KY-IN MSA</td>\n",
       "      <td>2018-02-14</td>\n",
       "      <td>surf</td>\n",
       "      <td>NaN</td>\n",
       "    </tr>\n",
       "    <tr>\n",
       "      <th>155</th>\n",
       "      <td>1155</td>\n",
       "      <td>Claude</td>\n",
       "      <td>Hahn</td>\n",
       "      <td>19</td>\n",
       "      <td>Miami-Fort Lauderdale-West Palm Beach, FL MSA</td>\n",
       "      <td>2018-02-21</td>\n",
       "      <td>ultimate</td>\n",
       "      <td>NaN</td>\n",
       "    </tr>\n",
       "    <tr>\n",
       "      <th>104</th>\n",
       "      <td>1104</td>\n",
       "      <td>Thurman</td>\n",
       "      <td>Stephens</td>\n",
       "      <td>20</td>\n",
       "      <td>Chicago-Naperville-Elgin, IL-IN-WI MSA</td>\n",
       "      <td>2018-12-23</td>\n",
       "      <td>ultimate</td>\n",
       "      <td>NaN</td>\n",
       "    </tr>\n",
       "    <tr>\n",
       "      <th>394</th>\n",
       "      <td>1394</td>\n",
       "      <td>Alejandro</td>\n",
       "      <td>Carver</td>\n",
       "      <td>28</td>\n",
       "      <td>Stockton, CA MSA</td>\n",
       "      <td>2018-01-16</td>\n",
       "      <td>surf</td>\n",
       "      <td>NaN</td>\n",
       "    </tr>\n",
       "    <tr>\n",
       "      <th>377</th>\n",
       "      <td>1377</td>\n",
       "      <td>Vallie</td>\n",
       "      <td>Conway</td>\n",
       "      <td>18</td>\n",
       "      <td>Rochester, NY MSA</td>\n",
       "      <td>2018-03-27</td>\n",
       "      <td>surf</td>\n",
       "      <td>NaN</td>\n",
       "    </tr>\n",
       "    <tr>\n",
       "      <th>124</th>\n",
       "      <td>1124</td>\n",
       "      <td>Jenell</td>\n",
       "      <td>Navarro</td>\n",
       "      <td>48</td>\n",
       "      <td>New Haven-Milford, CT MSA</td>\n",
       "      <td>2018-02-19</td>\n",
       "      <td>ultimate</td>\n",
       "      <td>NaN</td>\n",
       "    </tr>\n",
       "    <tr>\n",
       "      <th>68</th>\n",
       "      <td>1068</td>\n",
       "      <td>Marcel</td>\n",
       "      <td>Jimenez</td>\n",
       "      <td>47</td>\n",
       "      <td>New York-Newark-Jersey City, NY-NJ-PA MSA</td>\n",
       "      <td>2018-01-29</td>\n",
       "      <td>surf</td>\n",
       "      <td>NaN</td>\n",
       "    </tr>\n",
       "    <tr>\n",
       "      <th>450</th>\n",
       "      <td>1450</td>\n",
       "      <td>Errol</td>\n",
       "      <td>Marquez</td>\n",
       "      <td>67</td>\n",
       "      <td>Bakersfield, CA MSA</td>\n",
       "      <td>2018-06-16</td>\n",
       "      <td>ultimate</td>\n",
       "      <td>NaN</td>\n",
       "    </tr>\n",
       "  </tbody>\n",
       "</table>\n",
       "</div>"
      ],
      "text/plain": [
       "     user_id first_name last_name  age  \\\n",
       "361     1361    Jacelyn   Hoffman   45   \n",
       "73      1073      Grady  Crawford   30   \n",
       "374     1374      Ching     Watts   55   \n",
       "155     1155     Claude      Hahn   19   \n",
       "104     1104    Thurman  Stephens   20   \n",
       "394     1394  Alejandro    Carver   28   \n",
       "377     1377     Vallie    Conway   18   \n",
       "124     1124     Jenell   Navarro   48   \n",
       "68      1068     Marcel   Jimenez   47   \n",
       "450     1450      Errol   Marquez   67   \n",
       "\n",
       "                                              city    reg_date      plan  \\\n",
       "361                      Birmingham-Hoover, AL MSA  2018-04-14      surf   \n",
       "73          Chicago-Naperville-Elgin, IL-IN-WI MSA  2018-04-06      surf   \n",
       "374         Louisville/Jefferson County, KY-IN MSA  2018-02-14      surf   \n",
       "155  Miami-Fort Lauderdale-West Palm Beach, FL MSA  2018-02-21  ultimate   \n",
       "104         Chicago-Naperville-Elgin, IL-IN-WI MSA  2018-12-23  ultimate   \n",
       "394                               Stockton, CA MSA  2018-01-16      surf   \n",
       "377                              Rochester, NY MSA  2018-03-27      surf   \n",
       "124                      New Haven-Milford, CT MSA  2018-02-19  ultimate   \n",
       "68       New York-Newark-Jersey City, NY-NJ-PA MSA  2018-01-29      surf   \n",
       "450                            Bakersfield, CA MSA  2018-06-16  ultimate   \n",
       "\n",
       "    churn_date  \n",
       "361        NaN  \n",
       "73         NaN  \n",
       "374        NaN  \n",
       "155        NaN  \n",
       "104        NaN  \n",
       "394        NaN  \n",
       "377        NaN  \n",
       "124        NaN  \n",
       "68         NaN  \n",
       "450        NaN  "
      ]
     },
     "execution_count": 8,
     "metadata": {},
     "output_type": "execute_result"
    }
   ],
   "source": [
    "# Imprime una muestra de datos para usuarios\n",
    "\n",
    "df_users.sample(10,random_state=42)"
   ]
  },
  {
   "cell_type": "markdown",
   "metadata": {},
   "source": [
    "- Tenemos datos nulos en `churn_date`, pero está bien que haya nulos ya que eso significa que el usuario sigue usando el servicio al momento de hacer el muestreo.\n",
    "- `reg_date` es de tipo objeto, cuando nos serviría más como tipo datetime.\n",
    "- Lo mismo con la columna `churn_date`.\n",
    "- En la columna `city` tenemos la ciudad y el estado juntos, podríamos separarlos para tener la información más disponible.\n",
    "- Podemos separar los años, meses y días de las columnas que contienen fechas."
   ]
  },
  {
   "cell_type": "markdown",
   "metadata": {
    "id": "BX5FQh_I0q06"
   },
   "source": [
    "#### Corregir los datos"
   ]
  },
  {
   "cell_type": "code",
   "execution_count": 9,
   "metadata": {
    "id": "yUqX-K0C0q07"
   },
   "outputs": [],
   "source": [
    "#reg_date como datetime\n",
    "df_users['reg_date'] = pd.to_datetime(df_users['reg_date'])"
   ]
  },
  {
   "cell_type": "code",
   "execution_count": 10,
   "metadata": {},
   "outputs": [],
   "source": [
    "#churn_date como datetime\n",
    "df_users['churn_date'] = pd.to_datetime(df_users['churn_date'])"
   ]
  },
  {
   "cell_type": "code",
   "execution_count": 11,
   "metadata": {},
   "outputs": [
    {
     "data": {
      "text/plain": [
       "user_id                int64\n",
       "first_name            object\n",
       "last_name             object\n",
       "age                    int64\n",
       "city                  object\n",
       "reg_date      datetime64[ns]\n",
       "plan                  object\n",
       "churn_date    datetime64[ns]\n",
       "dtype: object"
      ]
     },
     "execution_count": 11,
     "metadata": {},
     "output_type": "execute_result"
    }
   ],
   "source": [
    "#verificar el tipo de datos\n",
    "df_users.dtypes"
   ]
  },
  {
   "cell_type": "code",
   "execution_count": 12,
   "metadata": {},
   "outputs": [
    {
     "data": {
      "text/html": [
       "<div>\n",
       "<style scoped>\n",
       "    .dataframe tbody tr th:only-of-type {\n",
       "        vertical-align: middle;\n",
       "    }\n",
       "\n",
       "    .dataframe tbody tr th {\n",
       "        vertical-align: top;\n",
       "    }\n",
       "\n",
       "    .dataframe thead th {\n",
       "        text-align: right;\n",
       "    }\n",
       "</style>\n",
       "<table border=\"1\" class=\"dataframe\">\n",
       "  <thead>\n",
       "    <tr style=\"text-align: right;\">\n",
       "      <th></th>\n",
       "      <th>user_id</th>\n",
       "      <th>first_name</th>\n",
       "      <th>last_name</th>\n",
       "      <th>age</th>\n",
       "      <th>city</th>\n",
       "      <th>reg_date</th>\n",
       "      <th>plan</th>\n",
       "      <th>churn_date</th>\n",
       "    </tr>\n",
       "  </thead>\n",
       "  <tbody>\n",
       "    <tr>\n",
       "      <th>361</th>\n",
       "      <td>1361</td>\n",
       "      <td>Jacelyn</td>\n",
       "      <td>Hoffman</td>\n",
       "      <td>45</td>\n",
       "      <td>Birmingham-Hoover, AL MSA</td>\n",
       "      <td>2018-04-14</td>\n",
       "      <td>surf</td>\n",
       "      <td>NaT</td>\n",
       "    </tr>\n",
       "    <tr>\n",
       "      <th>73</th>\n",
       "      <td>1073</td>\n",
       "      <td>Grady</td>\n",
       "      <td>Crawford</td>\n",
       "      <td>30</td>\n",
       "      <td>Chicago-Naperville-Elgin, IL-IN-WI MSA</td>\n",
       "      <td>2018-04-06</td>\n",
       "      <td>surf</td>\n",
       "      <td>NaT</td>\n",
       "    </tr>\n",
       "    <tr>\n",
       "      <th>374</th>\n",
       "      <td>1374</td>\n",
       "      <td>Ching</td>\n",
       "      <td>Watts</td>\n",
       "      <td>55</td>\n",
       "      <td>Louisville/Jefferson County, KY-IN MSA</td>\n",
       "      <td>2018-02-14</td>\n",
       "      <td>surf</td>\n",
       "      <td>NaT</td>\n",
       "    </tr>\n",
       "    <tr>\n",
       "      <th>155</th>\n",
       "      <td>1155</td>\n",
       "      <td>Claude</td>\n",
       "      <td>Hahn</td>\n",
       "      <td>19</td>\n",
       "      <td>Miami-Fort Lauderdale-West Palm Beach, FL MSA</td>\n",
       "      <td>2018-02-21</td>\n",
       "      <td>ultimate</td>\n",
       "      <td>NaT</td>\n",
       "    </tr>\n",
       "    <tr>\n",
       "      <th>104</th>\n",
       "      <td>1104</td>\n",
       "      <td>Thurman</td>\n",
       "      <td>Stephens</td>\n",
       "      <td>20</td>\n",
       "      <td>Chicago-Naperville-Elgin, IL-IN-WI MSA</td>\n",
       "      <td>2018-12-23</td>\n",
       "      <td>ultimate</td>\n",
       "      <td>NaT</td>\n",
       "    </tr>\n",
       "    <tr>\n",
       "      <th>394</th>\n",
       "      <td>1394</td>\n",
       "      <td>Alejandro</td>\n",
       "      <td>Carver</td>\n",
       "      <td>28</td>\n",
       "      <td>Stockton, CA MSA</td>\n",
       "      <td>2018-01-16</td>\n",
       "      <td>surf</td>\n",
       "      <td>NaT</td>\n",
       "    </tr>\n",
       "    <tr>\n",
       "      <th>377</th>\n",
       "      <td>1377</td>\n",
       "      <td>Vallie</td>\n",
       "      <td>Conway</td>\n",
       "      <td>18</td>\n",
       "      <td>Rochester, NY MSA</td>\n",
       "      <td>2018-03-27</td>\n",
       "      <td>surf</td>\n",
       "      <td>NaT</td>\n",
       "    </tr>\n",
       "    <tr>\n",
       "      <th>124</th>\n",
       "      <td>1124</td>\n",
       "      <td>Jenell</td>\n",
       "      <td>Navarro</td>\n",
       "      <td>48</td>\n",
       "      <td>New Haven-Milford, CT MSA</td>\n",
       "      <td>2018-02-19</td>\n",
       "      <td>ultimate</td>\n",
       "      <td>NaT</td>\n",
       "    </tr>\n",
       "    <tr>\n",
       "      <th>68</th>\n",
       "      <td>1068</td>\n",
       "      <td>Marcel</td>\n",
       "      <td>Jimenez</td>\n",
       "      <td>47</td>\n",
       "      <td>New York-Newark-Jersey City, NY-NJ-PA MSA</td>\n",
       "      <td>2018-01-29</td>\n",
       "      <td>surf</td>\n",
       "      <td>NaT</td>\n",
       "    </tr>\n",
       "    <tr>\n",
       "      <th>450</th>\n",
       "      <td>1450</td>\n",
       "      <td>Errol</td>\n",
       "      <td>Marquez</td>\n",
       "      <td>67</td>\n",
       "      <td>Bakersfield, CA MSA</td>\n",
       "      <td>2018-06-16</td>\n",
       "      <td>ultimate</td>\n",
       "      <td>NaT</td>\n",
       "    </tr>\n",
       "  </tbody>\n",
       "</table>\n",
       "</div>"
      ],
      "text/plain": [
       "     user_id first_name last_name  age  \\\n",
       "361     1361    Jacelyn   Hoffman   45   \n",
       "73      1073      Grady  Crawford   30   \n",
       "374     1374      Ching     Watts   55   \n",
       "155     1155     Claude      Hahn   19   \n",
       "104     1104    Thurman  Stephens   20   \n",
       "394     1394  Alejandro    Carver   28   \n",
       "377     1377     Vallie    Conway   18   \n",
       "124     1124     Jenell   Navarro   48   \n",
       "68      1068     Marcel   Jimenez   47   \n",
       "450     1450      Errol   Marquez   67   \n",
       "\n",
       "                                              city   reg_date      plan  \\\n",
       "361                      Birmingham-Hoover, AL MSA 2018-04-14      surf   \n",
       "73          Chicago-Naperville-Elgin, IL-IN-WI MSA 2018-04-06      surf   \n",
       "374         Louisville/Jefferson County, KY-IN MSA 2018-02-14      surf   \n",
       "155  Miami-Fort Lauderdale-West Palm Beach, FL MSA 2018-02-21  ultimate   \n",
       "104         Chicago-Naperville-Elgin, IL-IN-WI MSA 2018-12-23  ultimate   \n",
       "394                               Stockton, CA MSA 2018-01-16      surf   \n",
       "377                              Rochester, NY MSA 2018-03-27      surf   \n",
       "124                      New Haven-Milford, CT MSA 2018-02-19  ultimate   \n",
       "68       New York-Newark-Jersey City, NY-NJ-PA MSA 2018-01-29      surf   \n",
       "450                            Bakersfield, CA MSA 2018-06-16  ultimate   \n",
       "\n",
       "    churn_date  \n",
       "361        NaT  \n",
       "73         NaT  \n",
       "374        NaT  \n",
       "155        NaT  \n",
       "104        NaT  \n",
       "394        NaT  \n",
       "377        NaT  \n",
       "124        NaT  \n",
       "68         NaT  \n",
       "450        NaT  "
      ]
     },
     "execution_count": 12,
     "metadata": {},
     "output_type": "execute_result"
    }
   ],
   "source": [
    "df_users.sample(10,random_state=42)"
   ]
  },
  {
   "cell_type": "markdown",
   "metadata": {
    "id": "ycwuARJp0q07"
   },
   "source": [
    "#### Enriquecer los datos"
   ]
  },
  {
   "cell_type": "code",
   "execution_count": 13,
   "metadata": {
    "id": "iq0AaBS90q08"
   },
   "outputs": [],
   "source": [
    "#columna reg_date desglosada\n",
    "df_users['reg_date_year'] = df_users['reg_date'].dt.year\n",
    "df_users['reg_date_month'] = df_users['reg_date'].dt.month\n",
    "df_users['reg_date_day'] = df_users['reg_date'].dt.day"
   ]
  },
  {
   "cell_type": "code",
   "execution_count": 14,
   "metadata": {},
   "outputs": [],
   "source": [
    "#columna churn_date desglosada\n",
    "df_users['churn_date_year'] = df_users['churn_date'].dt.year\n",
    "df_users['churn_date_month'] = df_users['churn_date'].dt.month\n",
    "df_users['churn_date_day'] = df_users['churn_date'].dt.day"
   ]
  },
  {
   "cell_type": "code",
   "execution_count": 15,
   "metadata": {},
   "outputs": [
    {
     "data": {
      "text/html": [
       "<div>\n",
       "<style scoped>\n",
       "    .dataframe tbody tr th:only-of-type {\n",
       "        vertical-align: middle;\n",
       "    }\n",
       "\n",
       "    .dataframe tbody tr th {\n",
       "        vertical-align: top;\n",
       "    }\n",
       "\n",
       "    .dataframe thead th {\n",
       "        text-align: right;\n",
       "    }\n",
       "</style>\n",
       "<table border=\"1\" class=\"dataframe\">\n",
       "  <thead>\n",
       "    <tr style=\"text-align: right;\">\n",
       "      <th></th>\n",
       "      <th>user_id</th>\n",
       "      <th>first_name</th>\n",
       "      <th>last_name</th>\n",
       "      <th>age</th>\n",
       "      <th>city</th>\n",
       "      <th>reg_date</th>\n",
       "      <th>plan</th>\n",
       "      <th>churn_date</th>\n",
       "      <th>reg_date_year</th>\n",
       "      <th>reg_date_month</th>\n",
       "      <th>reg_date_day</th>\n",
       "      <th>churn_date_year</th>\n",
       "      <th>churn_date_month</th>\n",
       "      <th>churn_date_day</th>\n",
       "    </tr>\n",
       "  </thead>\n",
       "  <tbody>\n",
       "    <tr>\n",
       "      <th>361</th>\n",
       "      <td>1361</td>\n",
       "      <td>Jacelyn</td>\n",
       "      <td>Hoffman</td>\n",
       "      <td>45</td>\n",
       "      <td>Birmingham-Hoover, AL MSA</td>\n",
       "      <td>2018-04-14</td>\n",
       "      <td>surf</td>\n",
       "      <td>NaT</td>\n",
       "      <td>2018</td>\n",
       "      <td>4</td>\n",
       "      <td>14</td>\n",
       "      <td>NaN</td>\n",
       "      <td>NaN</td>\n",
       "      <td>NaN</td>\n",
       "    </tr>\n",
       "    <tr>\n",
       "      <th>73</th>\n",
       "      <td>1073</td>\n",
       "      <td>Grady</td>\n",
       "      <td>Crawford</td>\n",
       "      <td>30</td>\n",
       "      <td>Chicago-Naperville-Elgin, IL-IN-WI MSA</td>\n",
       "      <td>2018-04-06</td>\n",
       "      <td>surf</td>\n",
       "      <td>NaT</td>\n",
       "      <td>2018</td>\n",
       "      <td>4</td>\n",
       "      <td>6</td>\n",
       "      <td>NaN</td>\n",
       "      <td>NaN</td>\n",
       "      <td>NaN</td>\n",
       "    </tr>\n",
       "    <tr>\n",
       "      <th>374</th>\n",
       "      <td>1374</td>\n",
       "      <td>Ching</td>\n",
       "      <td>Watts</td>\n",
       "      <td>55</td>\n",
       "      <td>Louisville/Jefferson County, KY-IN MSA</td>\n",
       "      <td>2018-02-14</td>\n",
       "      <td>surf</td>\n",
       "      <td>NaT</td>\n",
       "      <td>2018</td>\n",
       "      <td>2</td>\n",
       "      <td>14</td>\n",
       "      <td>NaN</td>\n",
       "      <td>NaN</td>\n",
       "      <td>NaN</td>\n",
       "    </tr>\n",
       "    <tr>\n",
       "      <th>155</th>\n",
       "      <td>1155</td>\n",
       "      <td>Claude</td>\n",
       "      <td>Hahn</td>\n",
       "      <td>19</td>\n",
       "      <td>Miami-Fort Lauderdale-West Palm Beach, FL MSA</td>\n",
       "      <td>2018-02-21</td>\n",
       "      <td>ultimate</td>\n",
       "      <td>NaT</td>\n",
       "      <td>2018</td>\n",
       "      <td>2</td>\n",
       "      <td>21</td>\n",
       "      <td>NaN</td>\n",
       "      <td>NaN</td>\n",
       "      <td>NaN</td>\n",
       "    </tr>\n",
       "    <tr>\n",
       "      <th>104</th>\n",
       "      <td>1104</td>\n",
       "      <td>Thurman</td>\n",
       "      <td>Stephens</td>\n",
       "      <td>20</td>\n",
       "      <td>Chicago-Naperville-Elgin, IL-IN-WI MSA</td>\n",
       "      <td>2018-12-23</td>\n",
       "      <td>ultimate</td>\n",
       "      <td>NaT</td>\n",
       "      <td>2018</td>\n",
       "      <td>12</td>\n",
       "      <td>23</td>\n",
       "      <td>NaN</td>\n",
       "      <td>NaN</td>\n",
       "      <td>NaN</td>\n",
       "    </tr>\n",
       "    <tr>\n",
       "      <th>394</th>\n",
       "      <td>1394</td>\n",
       "      <td>Alejandro</td>\n",
       "      <td>Carver</td>\n",
       "      <td>28</td>\n",
       "      <td>Stockton, CA MSA</td>\n",
       "      <td>2018-01-16</td>\n",
       "      <td>surf</td>\n",
       "      <td>NaT</td>\n",
       "      <td>2018</td>\n",
       "      <td>1</td>\n",
       "      <td>16</td>\n",
       "      <td>NaN</td>\n",
       "      <td>NaN</td>\n",
       "      <td>NaN</td>\n",
       "    </tr>\n",
       "    <tr>\n",
       "      <th>377</th>\n",
       "      <td>1377</td>\n",
       "      <td>Vallie</td>\n",
       "      <td>Conway</td>\n",
       "      <td>18</td>\n",
       "      <td>Rochester, NY MSA</td>\n",
       "      <td>2018-03-27</td>\n",
       "      <td>surf</td>\n",
       "      <td>NaT</td>\n",
       "      <td>2018</td>\n",
       "      <td>3</td>\n",
       "      <td>27</td>\n",
       "      <td>NaN</td>\n",
       "      <td>NaN</td>\n",
       "      <td>NaN</td>\n",
       "    </tr>\n",
       "    <tr>\n",
       "      <th>124</th>\n",
       "      <td>1124</td>\n",
       "      <td>Jenell</td>\n",
       "      <td>Navarro</td>\n",
       "      <td>48</td>\n",
       "      <td>New Haven-Milford, CT MSA</td>\n",
       "      <td>2018-02-19</td>\n",
       "      <td>ultimate</td>\n",
       "      <td>NaT</td>\n",
       "      <td>2018</td>\n",
       "      <td>2</td>\n",
       "      <td>19</td>\n",
       "      <td>NaN</td>\n",
       "      <td>NaN</td>\n",
       "      <td>NaN</td>\n",
       "    </tr>\n",
       "    <tr>\n",
       "      <th>68</th>\n",
       "      <td>1068</td>\n",
       "      <td>Marcel</td>\n",
       "      <td>Jimenez</td>\n",
       "      <td>47</td>\n",
       "      <td>New York-Newark-Jersey City, NY-NJ-PA MSA</td>\n",
       "      <td>2018-01-29</td>\n",
       "      <td>surf</td>\n",
       "      <td>NaT</td>\n",
       "      <td>2018</td>\n",
       "      <td>1</td>\n",
       "      <td>29</td>\n",
       "      <td>NaN</td>\n",
       "      <td>NaN</td>\n",
       "      <td>NaN</td>\n",
       "    </tr>\n",
       "    <tr>\n",
       "      <th>450</th>\n",
       "      <td>1450</td>\n",
       "      <td>Errol</td>\n",
       "      <td>Marquez</td>\n",
       "      <td>67</td>\n",
       "      <td>Bakersfield, CA MSA</td>\n",
       "      <td>2018-06-16</td>\n",
       "      <td>ultimate</td>\n",
       "      <td>NaT</td>\n",
       "      <td>2018</td>\n",
       "      <td>6</td>\n",
       "      <td>16</td>\n",
       "      <td>NaN</td>\n",
       "      <td>NaN</td>\n",
       "      <td>NaN</td>\n",
       "    </tr>\n",
       "  </tbody>\n",
       "</table>\n",
       "</div>"
      ],
      "text/plain": [
       "     user_id first_name last_name  age  \\\n",
       "361     1361    Jacelyn   Hoffman   45   \n",
       "73      1073      Grady  Crawford   30   \n",
       "374     1374      Ching     Watts   55   \n",
       "155     1155     Claude      Hahn   19   \n",
       "104     1104    Thurman  Stephens   20   \n",
       "394     1394  Alejandro    Carver   28   \n",
       "377     1377     Vallie    Conway   18   \n",
       "124     1124     Jenell   Navarro   48   \n",
       "68      1068     Marcel   Jimenez   47   \n",
       "450     1450      Errol   Marquez   67   \n",
       "\n",
       "                                              city   reg_date      plan  \\\n",
       "361                      Birmingham-Hoover, AL MSA 2018-04-14      surf   \n",
       "73          Chicago-Naperville-Elgin, IL-IN-WI MSA 2018-04-06      surf   \n",
       "374         Louisville/Jefferson County, KY-IN MSA 2018-02-14      surf   \n",
       "155  Miami-Fort Lauderdale-West Palm Beach, FL MSA 2018-02-21  ultimate   \n",
       "104         Chicago-Naperville-Elgin, IL-IN-WI MSA 2018-12-23  ultimate   \n",
       "394                               Stockton, CA MSA 2018-01-16      surf   \n",
       "377                              Rochester, NY MSA 2018-03-27      surf   \n",
       "124                      New Haven-Milford, CT MSA 2018-02-19  ultimate   \n",
       "68       New York-Newark-Jersey City, NY-NJ-PA MSA 2018-01-29      surf   \n",
       "450                            Bakersfield, CA MSA 2018-06-16  ultimate   \n",
       "\n",
       "    churn_date  reg_date_year  reg_date_month  reg_date_day  churn_date_year  \\\n",
       "361        NaT           2018               4            14              NaN   \n",
       "73         NaT           2018               4             6              NaN   \n",
       "374        NaT           2018               2            14              NaN   \n",
       "155        NaT           2018               2            21              NaN   \n",
       "104        NaT           2018              12            23              NaN   \n",
       "394        NaT           2018               1            16              NaN   \n",
       "377        NaT           2018               3            27              NaN   \n",
       "124        NaT           2018               2            19              NaN   \n",
       "68         NaT           2018               1            29              NaN   \n",
       "450        NaT           2018               6            16              NaN   \n",
       "\n",
       "     churn_date_month  churn_date_day  \n",
       "361               NaN             NaN  \n",
       "73                NaN             NaN  \n",
       "374               NaN             NaN  \n",
       "155               NaN             NaN  \n",
       "104               NaN             NaN  \n",
       "394               NaN             NaN  \n",
       "377               NaN             NaN  \n",
       "124               NaN             NaN  \n",
       "68                NaN             NaN  \n",
       "450               NaN             NaN  "
      ]
     },
     "execution_count": 15,
     "metadata": {},
     "output_type": "execute_result"
    }
   ],
   "source": [
    "df_users.sample(10,random_state=42)"
   ]
  },
  {
   "cell_type": "markdown",
   "metadata": {
    "id": "o7MeKCid0q08"
   },
   "source": [
    "### Llamadas"
   ]
  },
  {
   "cell_type": "code",
   "execution_count": 16,
   "metadata": {
    "id": "6dDlnoDm0q08"
   },
   "outputs": [
    {
     "name": "stdout",
     "output_type": "stream",
     "text": [
      "<class 'pandas.core.frame.DataFrame'>\n",
      "RangeIndex: 137735 entries, 0 to 137734\n",
      "Data columns (total 4 columns):\n",
      " #   Column     Non-Null Count   Dtype  \n",
      "---  ------     --------------   -----  \n",
      " 0   id         137735 non-null  object \n",
      " 1   user_id    137735 non-null  int64  \n",
      " 2   call_date  137735 non-null  object \n",
      " 3   duration   137735 non-null  float64\n",
      "dtypes: float64(1), int64(1), object(2)\n",
      "memory usage: 4.2+ MB\n"
     ]
    }
   ],
   "source": [
    "# Imprime la información general/resumida sobre el DataFrame de las llamadas\n",
    "\n",
    "df_calls.info()"
   ]
  },
  {
   "cell_type": "code",
   "execution_count": 17,
   "metadata": {
    "id": "kuh1vlNB0q09"
   },
   "outputs": [
    {
     "data": {
      "text/html": [
       "<div>\n",
       "<style scoped>\n",
       "    .dataframe tbody tr th:only-of-type {\n",
       "        vertical-align: middle;\n",
       "    }\n",
       "\n",
       "    .dataframe tbody tr th {\n",
       "        vertical-align: top;\n",
       "    }\n",
       "\n",
       "    .dataframe thead th {\n",
       "        text-align: right;\n",
       "    }\n",
       "</style>\n",
       "<table border=\"1\" class=\"dataframe\">\n",
       "  <thead>\n",
       "    <tr style=\"text-align: right;\">\n",
       "      <th></th>\n",
       "      <th>id</th>\n",
       "      <th>user_id</th>\n",
       "      <th>call_date</th>\n",
       "      <th>duration</th>\n",
       "    </tr>\n",
       "  </thead>\n",
       "  <tbody>\n",
       "    <tr>\n",
       "      <th>52288</th>\n",
       "      <td>1187_481</td>\n",
       "      <td>1187</td>\n",
       "      <td>2018-12-12</td>\n",
       "      <td>0.00</td>\n",
       "    </tr>\n",
       "    <tr>\n",
       "      <th>30634</th>\n",
       "      <td>1114_568</td>\n",
       "      <td>1114</td>\n",
       "      <td>2018-10-21</td>\n",
       "      <td>1.05</td>\n",
       "    </tr>\n",
       "    <tr>\n",
       "      <th>54228</th>\n",
       "      <td>1196_106</td>\n",
       "      <td>1196</td>\n",
       "      <td>2018-07-23</td>\n",
       "      <td>5.67</td>\n",
       "    </tr>\n",
       "    <tr>\n",
       "      <th>110372</th>\n",
       "      <td>1389_454</td>\n",
       "      <td>1389</td>\n",
       "      <td>2018-05-12</td>\n",
       "      <td>11.49</td>\n",
       "    </tr>\n",
       "    <tr>\n",
       "      <th>109600</th>\n",
       "      <td>1386_60</td>\n",
       "      <td>1386</td>\n",
       "      <td>2018-11-24</td>\n",
       "      <td>0.00</td>\n",
       "    </tr>\n",
       "    <tr>\n",
       "      <th>87094</th>\n",
       "      <td>1320_763</td>\n",
       "      <td>1320</td>\n",
       "      <td>2018-06-23</td>\n",
       "      <td>3.84</td>\n",
       "    </tr>\n",
       "    <tr>\n",
       "      <th>67527</th>\n",
       "      <td>1242_23</td>\n",
       "      <td>1242</td>\n",
       "      <td>2018-11-15</td>\n",
       "      <td>13.67</td>\n",
       "    </tr>\n",
       "    <tr>\n",
       "      <th>9557</th>\n",
       "      <td>1042_494</td>\n",
       "      <td>1042</td>\n",
       "      <td>2018-11-05</td>\n",
       "      <td>7.10</td>\n",
       "    </tr>\n",
       "    <tr>\n",
       "      <th>104970</th>\n",
       "      <td>1369_55</td>\n",
       "      <td>1369</td>\n",
       "      <td>2018-12-28</td>\n",
       "      <td>0.00</td>\n",
       "    </tr>\n",
       "    <tr>\n",
       "      <th>124419</th>\n",
       "      <td>1439_287</td>\n",
       "      <td>1439</td>\n",
       "      <td>2018-08-16</td>\n",
       "      <td>8.32</td>\n",
       "    </tr>\n",
       "  </tbody>\n",
       "</table>\n",
       "</div>"
      ],
      "text/plain": [
       "              id  user_id   call_date  duration\n",
       "52288   1187_481     1187  2018-12-12      0.00\n",
       "30634   1114_568     1114  2018-10-21      1.05\n",
       "54228   1196_106     1196  2018-07-23      5.67\n",
       "110372  1389_454     1389  2018-05-12     11.49\n",
       "109600   1386_60     1386  2018-11-24      0.00\n",
       "87094   1320_763     1320  2018-06-23      3.84\n",
       "67527    1242_23     1242  2018-11-15     13.67\n",
       "9557    1042_494     1042  2018-11-05      7.10\n",
       "104970   1369_55     1369  2018-12-28      0.00\n",
       "124419  1439_287     1439  2018-08-16      8.32"
      ]
     },
     "execution_count": 17,
     "metadata": {},
     "output_type": "execute_result"
    }
   ],
   "source": [
    "# Imprime una muestra de datos para las llamadas\n",
    "\n",
    "df_calls.sample(10,random_state=42)"
   ]
  },
  {
   "cell_type": "markdown",
   "metadata": {},
   "source": [
    "- Los id de la llamada tienen primero el id de usuario y luego el id de la llamada separados por un guión bajo, lo cual es una buena manera de registrar los id para asegurarse que no haya repetidos.\n",
    "- La columna `call_date` tiene el mismo problema que las fechas en la tabla anterior, no está en formato datetime, y podemos desglosar esa información\n",
    "- La columna `duration` nos dice que está en minutos. Según las instrucciones, las llamadas individuales se redondean al minuto más alto, por lo que podemos aplicarle la función `ceil` para solo conservar los minutos.\n",
    "- No hay datos faltantes"
   ]
  },
  {
   "cell_type": "markdown",
   "metadata": {
    "id": "S7hzxmbX0q0-"
   },
   "source": [
    "#### Corregir los datos"
   ]
  },
  {
   "cell_type": "code",
   "execution_count": 18,
   "metadata": {
    "id": "S2r8xA4f0q0-"
   },
   "outputs": [],
   "source": [
    "#columna call_date a datetime\n",
    "df_calls['call_date'] = pd.to_datetime(df_calls['call_date'])"
   ]
  },
  {
   "cell_type": "code",
   "execution_count": 19,
   "metadata": {},
   "outputs": [
    {
     "data": {
      "text/plain": [
       "id                   object\n",
       "user_id               int64\n",
       "call_date    datetime64[ns]\n",
       "duration            float64\n",
       "dtype: object"
      ]
     },
     "execution_count": 19,
     "metadata": {},
     "output_type": "execute_result"
    }
   ],
   "source": [
    "df_calls.dtypes"
   ]
  },
  {
   "cell_type": "markdown",
   "metadata": {
    "id": "KrMgTrlG0q0_"
   },
   "source": [
    "#### Enriquecer los datos"
   ]
  },
  {
   "cell_type": "code",
   "execution_count": 20,
   "metadata": {
    "id": "iZ1avpA_0q0_"
   },
   "outputs": [],
   "source": [
    "#desglosar la columna call_date\n",
    "df_calls['year'] = df_calls['call_date'].dt.year\n",
    "df_calls['month'] = df_calls['call_date'].dt.month\n",
    "df_calls['day'] = df_calls['call_date'].dt.day"
   ]
  },
  {
   "cell_type": "code",
   "execution_count": 21,
   "metadata": {},
   "outputs": [],
   "source": [
    "#redondear hacia arriba los minutos\n",
    "df_calls['duration_rounded'] = df_calls['duration'].apply(np.ceil)\n",
    "df_calls['duration_rounded'] = df_calls['duration_rounded'].astype('int')"
   ]
  },
  {
   "cell_type": "code",
   "execution_count": 22,
   "metadata": {},
   "outputs": [
    {
     "data": {
      "text/html": [
       "<div>\n",
       "<style scoped>\n",
       "    .dataframe tbody tr th:only-of-type {\n",
       "        vertical-align: middle;\n",
       "    }\n",
       "\n",
       "    .dataframe tbody tr th {\n",
       "        vertical-align: top;\n",
       "    }\n",
       "\n",
       "    .dataframe thead th {\n",
       "        text-align: right;\n",
       "    }\n",
       "</style>\n",
       "<table border=\"1\" class=\"dataframe\">\n",
       "  <thead>\n",
       "    <tr style=\"text-align: right;\">\n",
       "      <th></th>\n",
       "      <th>id</th>\n",
       "      <th>user_id</th>\n",
       "      <th>call_date</th>\n",
       "      <th>duration</th>\n",
       "      <th>year</th>\n",
       "      <th>month</th>\n",
       "      <th>day</th>\n",
       "      <th>duration_rounded</th>\n",
       "    </tr>\n",
       "  </thead>\n",
       "  <tbody>\n",
       "    <tr>\n",
       "      <th>52288</th>\n",
       "      <td>1187_481</td>\n",
       "      <td>1187</td>\n",
       "      <td>2018-12-12</td>\n",
       "      <td>0.00</td>\n",
       "      <td>2018</td>\n",
       "      <td>12</td>\n",
       "      <td>12</td>\n",
       "      <td>0</td>\n",
       "    </tr>\n",
       "    <tr>\n",
       "      <th>30634</th>\n",
       "      <td>1114_568</td>\n",
       "      <td>1114</td>\n",
       "      <td>2018-10-21</td>\n",
       "      <td>1.05</td>\n",
       "      <td>2018</td>\n",
       "      <td>10</td>\n",
       "      <td>21</td>\n",
       "      <td>2</td>\n",
       "    </tr>\n",
       "    <tr>\n",
       "      <th>54228</th>\n",
       "      <td>1196_106</td>\n",
       "      <td>1196</td>\n",
       "      <td>2018-07-23</td>\n",
       "      <td>5.67</td>\n",
       "      <td>2018</td>\n",
       "      <td>7</td>\n",
       "      <td>23</td>\n",
       "      <td>6</td>\n",
       "    </tr>\n",
       "    <tr>\n",
       "      <th>110372</th>\n",
       "      <td>1389_454</td>\n",
       "      <td>1389</td>\n",
       "      <td>2018-05-12</td>\n",
       "      <td>11.49</td>\n",
       "      <td>2018</td>\n",
       "      <td>5</td>\n",
       "      <td>12</td>\n",
       "      <td>12</td>\n",
       "    </tr>\n",
       "    <tr>\n",
       "      <th>109600</th>\n",
       "      <td>1386_60</td>\n",
       "      <td>1386</td>\n",
       "      <td>2018-11-24</td>\n",
       "      <td>0.00</td>\n",
       "      <td>2018</td>\n",
       "      <td>11</td>\n",
       "      <td>24</td>\n",
       "      <td>0</td>\n",
       "    </tr>\n",
       "    <tr>\n",
       "      <th>87094</th>\n",
       "      <td>1320_763</td>\n",
       "      <td>1320</td>\n",
       "      <td>2018-06-23</td>\n",
       "      <td>3.84</td>\n",
       "      <td>2018</td>\n",
       "      <td>6</td>\n",
       "      <td>23</td>\n",
       "      <td>4</td>\n",
       "    </tr>\n",
       "    <tr>\n",
       "      <th>67527</th>\n",
       "      <td>1242_23</td>\n",
       "      <td>1242</td>\n",
       "      <td>2018-11-15</td>\n",
       "      <td>13.67</td>\n",
       "      <td>2018</td>\n",
       "      <td>11</td>\n",
       "      <td>15</td>\n",
       "      <td>14</td>\n",
       "    </tr>\n",
       "    <tr>\n",
       "      <th>9557</th>\n",
       "      <td>1042_494</td>\n",
       "      <td>1042</td>\n",
       "      <td>2018-11-05</td>\n",
       "      <td>7.10</td>\n",
       "      <td>2018</td>\n",
       "      <td>11</td>\n",
       "      <td>5</td>\n",
       "      <td>8</td>\n",
       "    </tr>\n",
       "    <tr>\n",
       "      <th>104970</th>\n",
       "      <td>1369_55</td>\n",
       "      <td>1369</td>\n",
       "      <td>2018-12-28</td>\n",
       "      <td>0.00</td>\n",
       "      <td>2018</td>\n",
       "      <td>12</td>\n",
       "      <td>28</td>\n",
       "      <td>0</td>\n",
       "    </tr>\n",
       "    <tr>\n",
       "      <th>124419</th>\n",
       "      <td>1439_287</td>\n",
       "      <td>1439</td>\n",
       "      <td>2018-08-16</td>\n",
       "      <td>8.32</td>\n",
       "      <td>2018</td>\n",
       "      <td>8</td>\n",
       "      <td>16</td>\n",
       "      <td>9</td>\n",
       "    </tr>\n",
       "  </tbody>\n",
       "</table>\n",
       "</div>"
      ],
      "text/plain": [
       "              id  user_id  call_date  duration  year  month  day  \\\n",
       "52288   1187_481     1187 2018-12-12      0.00  2018     12   12   \n",
       "30634   1114_568     1114 2018-10-21      1.05  2018     10   21   \n",
       "54228   1196_106     1196 2018-07-23      5.67  2018      7   23   \n",
       "110372  1389_454     1389 2018-05-12     11.49  2018      5   12   \n",
       "109600   1386_60     1386 2018-11-24      0.00  2018     11   24   \n",
       "87094   1320_763     1320 2018-06-23      3.84  2018      6   23   \n",
       "67527    1242_23     1242 2018-11-15     13.67  2018     11   15   \n",
       "9557    1042_494     1042 2018-11-05      7.10  2018     11    5   \n",
       "104970   1369_55     1369 2018-12-28      0.00  2018     12   28   \n",
       "124419  1439_287     1439 2018-08-16      8.32  2018      8   16   \n",
       "\n",
       "        duration_rounded  \n",
       "52288                  0  \n",
       "30634                  2  \n",
       "54228                  6  \n",
       "110372                12  \n",
       "109600                 0  \n",
       "87094                  4  \n",
       "67527                 14  \n",
       "9557                   8  \n",
       "104970                 0  \n",
       "124419                 9  "
      ]
     },
     "execution_count": 22,
     "metadata": {},
     "output_type": "execute_result"
    }
   ],
   "source": [
    "df_calls.sample(10, random_state=42)"
   ]
  },
  {
   "cell_type": "code",
   "execution_count": 23,
   "metadata": {
    "scrolled": true
   },
   "outputs": [
    {
     "data": {
      "text/plain": [
       "id                          object\n",
       "user_id                      int64\n",
       "call_date           datetime64[ns]\n",
       "duration                   float64\n",
       "year                         int32\n",
       "month                        int32\n",
       "day                          int32\n",
       "duration_rounded             int64\n",
       "dtype: object"
      ]
     },
     "execution_count": 23,
     "metadata": {},
     "output_type": "execute_result"
    }
   ],
   "source": [
    "df_calls.dtypes"
   ]
  },
  {
   "cell_type": "markdown",
   "metadata": {},
   "source": [
    "<div class=\"alert alert-block alert-warning\">\n",
    "<b>Comentario del revisor (1ra Iteracion)</b> <a class=“tocSkip”></a>\n",
    "\n",
    "Buen trabajo con el redondeo hacia arriba de la duración en minutos, también puedes usar `np.ceil()` que es una operación vectorial que tienen mejor performance.\n",
    "</div>"
   ]
  },
  {
   "cell_type": "markdown",
   "metadata": {},
   "source": [
    "<div class=\"alert alert-block alert-info\">\n",
    "<b>Respuesta del estudiante</b> <a class=“tocSkip”></a>\n",
    "Gracias por la sugerencia!\n",
    "</div>"
   ]
  },
  {
   "cell_type": "markdown",
   "metadata": {
    "id": "mOUZSi180q0_"
   },
   "source": [
    "### Mensajes"
   ]
  },
  {
   "cell_type": "code",
   "execution_count": 24,
   "metadata": {
    "id": "R-bYJpdV0q1A"
   },
   "outputs": [
    {
     "name": "stdout",
     "output_type": "stream",
     "text": [
      "<class 'pandas.core.frame.DataFrame'>\n",
      "RangeIndex: 76051 entries, 0 to 76050\n",
      "Data columns (total 3 columns):\n",
      " #   Column        Non-Null Count  Dtype \n",
      "---  ------        --------------  ----- \n",
      " 0   id            76051 non-null  object\n",
      " 1   user_id       76051 non-null  int64 \n",
      " 2   message_date  76051 non-null  object\n",
      "dtypes: int64(1), object(2)\n",
      "memory usage: 1.7+ MB\n"
     ]
    }
   ],
   "source": [
    "# Imprime la información general/resumida sobre el DataFrame de los mensajes\n",
    "\n",
    "df_messages.info()"
   ]
  },
  {
   "cell_type": "code",
   "execution_count": 25,
   "metadata": {
    "id": "mCEl2iGE0q1A"
   },
   "outputs": [
    {
     "data": {
      "text/html": [
       "<div>\n",
       "<style scoped>\n",
       "    .dataframe tbody tr th:only-of-type {\n",
       "        vertical-align: middle;\n",
       "    }\n",
       "\n",
       "    .dataframe tbody tr th {\n",
       "        vertical-align: top;\n",
       "    }\n",
       "\n",
       "    .dataframe thead th {\n",
       "        text-align: right;\n",
       "    }\n",
       "</style>\n",
       "<table border=\"1\" class=\"dataframe\">\n",
       "  <thead>\n",
       "    <tr style=\"text-align: right;\">\n",
       "      <th></th>\n",
       "      <th>id</th>\n",
       "      <th>user_id</th>\n",
       "      <th>message_date</th>\n",
       "    </tr>\n",
       "  </thead>\n",
       "  <tbody>\n",
       "    <tr>\n",
       "      <th>58331</th>\n",
       "      <td>1369_132</td>\n",
       "      <td>1369</td>\n",
       "      <td>2018-12-27</td>\n",
       "    </tr>\n",
       "    <tr>\n",
       "      <th>24196</th>\n",
       "      <td>1145_51</td>\n",
       "      <td>1145</td>\n",
       "      <td>2018-07-11</td>\n",
       "    </tr>\n",
       "    <tr>\n",
       "      <th>9284</th>\n",
       "      <td>1069_42</td>\n",
       "      <td>1069</td>\n",
       "      <td>2018-12-03</td>\n",
       "    </tr>\n",
       "    <tr>\n",
       "      <th>44214</th>\n",
       "      <td>1293_1181</td>\n",
       "      <td>1293</td>\n",
       "      <td>2018-10-06</td>\n",
       "    </tr>\n",
       "    <tr>\n",
       "      <th>57006</th>\n",
       "      <td>1362_72</td>\n",
       "      <td>1362</td>\n",
       "      <td>2018-05-25</td>\n",
       "    </tr>\n",
       "    <tr>\n",
       "      <th>65485</th>\n",
       "      <td>1421_70</td>\n",
       "      <td>1421</td>\n",
       "      <td>2018-12-21</td>\n",
       "    </tr>\n",
       "    <tr>\n",
       "      <th>10405</th>\n",
       "      <td>1076_916</td>\n",
       "      <td>1076</td>\n",
       "      <td>2018-11-23</td>\n",
       "    </tr>\n",
       "    <tr>\n",
       "      <th>36070</th>\n",
       "      <td>1237_91</td>\n",
       "      <td>1237</td>\n",
       "      <td>2018-09-02</td>\n",
       "    </tr>\n",
       "    <tr>\n",
       "      <th>31581</th>\n",
       "      <td>1196_64</td>\n",
       "      <td>1196</td>\n",
       "      <td>2018-06-27</td>\n",
       "    </tr>\n",
       "    <tr>\n",
       "      <th>15257</th>\n",
       "      <td>1101_314</td>\n",
       "      <td>1101</td>\n",
       "      <td>2018-12-16</td>\n",
       "    </tr>\n",
       "  </tbody>\n",
       "</table>\n",
       "</div>"
      ],
      "text/plain": [
       "              id  user_id message_date\n",
       "58331   1369_132     1369   2018-12-27\n",
       "24196    1145_51     1145   2018-07-11\n",
       "9284     1069_42     1069   2018-12-03\n",
       "44214  1293_1181     1293   2018-10-06\n",
       "57006    1362_72     1362   2018-05-25\n",
       "65485    1421_70     1421   2018-12-21\n",
       "10405   1076_916     1076   2018-11-23\n",
       "36070    1237_91     1237   2018-09-02\n",
       "31581    1196_64     1196   2018-06-27\n",
       "15257   1101_314     1101   2018-12-16"
      ]
     },
     "execution_count": 25,
     "metadata": {},
     "output_type": "execute_result"
    }
   ],
   "source": [
    "# Imprime una muestra de datos para los mensajes\n",
    "\n",
    "df_messages.sample(10, random_state=42)"
   ]
  },
  {
   "cell_type": "markdown",
   "metadata": {},
   "source": [
    "- Es muy similar a la tabla de `calls`, solo que no tiene la columna de duración.\n",
    "- Lo unico que podríamos cambiar es `message_date` transformarla a datetime, y desglosarla\n",
    "- No hay valores ausentes"
   ]
  },
  {
   "cell_type": "markdown",
   "metadata": {
    "id": "Sprfak900q1B"
   },
   "source": [
    "#### Corregir los datos"
   ]
  },
  {
   "cell_type": "code",
   "execution_count": 26,
   "metadata": {
    "id": "vsllvkoa0q1B"
   },
   "outputs": [],
   "source": [
    "df_messages['message_date'] = pd.to_datetime(df_messages['message_date'])"
   ]
  },
  {
   "cell_type": "markdown",
   "metadata": {
    "id": "HvLid7iD0q1B"
   },
   "source": [
    "#### Enriquecer los datos"
   ]
  },
  {
   "cell_type": "code",
   "execution_count": 27,
   "metadata": {
    "id": "zYEXZac10q1C"
   },
   "outputs": [],
   "source": [
    "df_messages['year'] = df_messages['message_date'].dt.year\n",
    "df_messages['month'] = df_messages['message_date'].dt.month\n",
    "df_messages['day'] = df_messages['message_date'].dt.day"
   ]
  },
  {
   "cell_type": "code",
   "execution_count": 28,
   "metadata": {},
   "outputs": [
    {
     "data": {
      "text/html": [
       "<div>\n",
       "<style scoped>\n",
       "    .dataframe tbody tr th:only-of-type {\n",
       "        vertical-align: middle;\n",
       "    }\n",
       "\n",
       "    .dataframe tbody tr th {\n",
       "        vertical-align: top;\n",
       "    }\n",
       "\n",
       "    .dataframe thead th {\n",
       "        text-align: right;\n",
       "    }\n",
       "</style>\n",
       "<table border=\"1\" class=\"dataframe\">\n",
       "  <thead>\n",
       "    <tr style=\"text-align: right;\">\n",
       "      <th></th>\n",
       "      <th>id</th>\n",
       "      <th>user_id</th>\n",
       "      <th>message_date</th>\n",
       "      <th>year</th>\n",
       "      <th>month</th>\n",
       "      <th>day</th>\n",
       "    </tr>\n",
       "  </thead>\n",
       "  <tbody>\n",
       "    <tr>\n",
       "      <th>58331</th>\n",
       "      <td>1369_132</td>\n",
       "      <td>1369</td>\n",
       "      <td>2018-12-27</td>\n",
       "      <td>2018</td>\n",
       "      <td>12</td>\n",
       "      <td>27</td>\n",
       "    </tr>\n",
       "    <tr>\n",
       "      <th>24196</th>\n",
       "      <td>1145_51</td>\n",
       "      <td>1145</td>\n",
       "      <td>2018-07-11</td>\n",
       "      <td>2018</td>\n",
       "      <td>7</td>\n",
       "      <td>11</td>\n",
       "    </tr>\n",
       "    <tr>\n",
       "      <th>9284</th>\n",
       "      <td>1069_42</td>\n",
       "      <td>1069</td>\n",
       "      <td>2018-12-03</td>\n",
       "      <td>2018</td>\n",
       "      <td>12</td>\n",
       "      <td>3</td>\n",
       "    </tr>\n",
       "    <tr>\n",
       "      <th>44214</th>\n",
       "      <td>1293_1181</td>\n",
       "      <td>1293</td>\n",
       "      <td>2018-10-06</td>\n",
       "      <td>2018</td>\n",
       "      <td>10</td>\n",
       "      <td>6</td>\n",
       "    </tr>\n",
       "    <tr>\n",
       "      <th>57006</th>\n",
       "      <td>1362_72</td>\n",
       "      <td>1362</td>\n",
       "      <td>2018-05-25</td>\n",
       "      <td>2018</td>\n",
       "      <td>5</td>\n",
       "      <td>25</td>\n",
       "    </tr>\n",
       "    <tr>\n",
       "      <th>65485</th>\n",
       "      <td>1421_70</td>\n",
       "      <td>1421</td>\n",
       "      <td>2018-12-21</td>\n",
       "      <td>2018</td>\n",
       "      <td>12</td>\n",
       "      <td>21</td>\n",
       "    </tr>\n",
       "    <tr>\n",
       "      <th>10405</th>\n",
       "      <td>1076_916</td>\n",
       "      <td>1076</td>\n",
       "      <td>2018-11-23</td>\n",
       "      <td>2018</td>\n",
       "      <td>11</td>\n",
       "      <td>23</td>\n",
       "    </tr>\n",
       "    <tr>\n",
       "      <th>36070</th>\n",
       "      <td>1237_91</td>\n",
       "      <td>1237</td>\n",
       "      <td>2018-09-02</td>\n",
       "      <td>2018</td>\n",
       "      <td>9</td>\n",
       "      <td>2</td>\n",
       "    </tr>\n",
       "    <tr>\n",
       "      <th>31581</th>\n",
       "      <td>1196_64</td>\n",
       "      <td>1196</td>\n",
       "      <td>2018-06-27</td>\n",
       "      <td>2018</td>\n",
       "      <td>6</td>\n",
       "      <td>27</td>\n",
       "    </tr>\n",
       "    <tr>\n",
       "      <th>15257</th>\n",
       "      <td>1101_314</td>\n",
       "      <td>1101</td>\n",
       "      <td>2018-12-16</td>\n",
       "      <td>2018</td>\n",
       "      <td>12</td>\n",
       "      <td>16</td>\n",
       "    </tr>\n",
       "  </tbody>\n",
       "</table>\n",
       "</div>"
      ],
      "text/plain": [
       "              id  user_id message_date  year  month  day\n",
       "58331   1369_132     1369   2018-12-27  2018     12   27\n",
       "24196    1145_51     1145   2018-07-11  2018      7   11\n",
       "9284     1069_42     1069   2018-12-03  2018     12    3\n",
       "44214  1293_1181     1293   2018-10-06  2018     10    6\n",
       "57006    1362_72     1362   2018-05-25  2018      5   25\n",
       "65485    1421_70     1421   2018-12-21  2018     12   21\n",
       "10405   1076_916     1076   2018-11-23  2018     11   23\n",
       "36070    1237_91     1237   2018-09-02  2018      9    2\n",
       "31581    1196_64     1196   2018-06-27  2018      6   27\n",
       "15257   1101_314     1101   2018-12-16  2018     12   16"
      ]
     },
     "execution_count": 28,
     "metadata": {},
     "output_type": "execute_result"
    }
   ],
   "source": [
    "df_messages.sample(10, random_state=42)"
   ]
  },
  {
   "cell_type": "markdown",
   "metadata": {
    "id": "bStkaxn40q1C"
   },
   "source": [
    "### Internet"
   ]
  },
  {
   "cell_type": "code",
   "execution_count": 29,
   "metadata": {
    "id": "e-Uz5qyn0q1C"
   },
   "outputs": [
    {
     "name": "stdout",
     "output_type": "stream",
     "text": [
      "<class 'pandas.core.frame.DataFrame'>\n",
      "RangeIndex: 104825 entries, 0 to 104824\n",
      "Data columns (total 4 columns):\n",
      " #   Column        Non-Null Count   Dtype  \n",
      "---  ------        --------------   -----  \n",
      " 0   id            104825 non-null  object \n",
      " 1   user_id       104825 non-null  int64  \n",
      " 2   session_date  104825 non-null  object \n",
      " 3   mb_used       104825 non-null  float64\n",
      "dtypes: float64(1), int64(1), object(2)\n",
      "memory usage: 3.2+ MB\n"
     ]
    }
   ],
   "source": [
    "# Imprime la información general/resumida sobre el DataFrame de internet\n",
    "\n",
    "df_internet.info()"
   ]
  },
  {
   "cell_type": "code",
   "execution_count": 30,
   "metadata": {
    "id": "9r3x_XLw0q1C"
   },
   "outputs": [
    {
     "data": {
      "text/html": [
       "<div>\n",
       "<style scoped>\n",
       "    .dataframe tbody tr th:only-of-type {\n",
       "        vertical-align: middle;\n",
       "    }\n",
       "\n",
       "    .dataframe tbody tr th {\n",
       "        vertical-align: top;\n",
       "    }\n",
       "\n",
       "    .dataframe thead th {\n",
       "        text-align: right;\n",
       "    }\n",
       "</style>\n",
       "<table border=\"1\" class=\"dataframe\">\n",
       "  <thead>\n",
       "    <tr style=\"text-align: right;\">\n",
       "      <th></th>\n",
       "      <th>id</th>\n",
       "      <th>user_id</th>\n",
       "      <th>session_date</th>\n",
       "      <th>mb_used</th>\n",
       "    </tr>\n",
       "  </thead>\n",
       "  <tbody>\n",
       "    <tr>\n",
       "      <th>102423</th>\n",
       "      <td>1490_238</td>\n",
       "      <td>1490</td>\n",
       "      <td>2018-10-15</td>\n",
       "      <td>373.01</td>\n",
       "    </tr>\n",
       "    <tr>\n",
       "      <th>12472</th>\n",
       "      <td>1060_181</td>\n",
       "      <td>1060</td>\n",
       "      <td>2018-09-14</td>\n",
       "      <td>875.38</td>\n",
       "    </tr>\n",
       "    <tr>\n",
       "      <th>91959</th>\n",
       "      <td>1426_53</td>\n",
       "      <td>1426</td>\n",
       "      <td>2018-12-29</td>\n",
       "      <td>627.48</td>\n",
       "    </tr>\n",
       "    <tr>\n",
       "      <th>42208</th>\n",
       "      <td>1187_385</td>\n",
       "      <td>1187</td>\n",
       "      <td>2018-09-20</td>\n",
       "      <td>132.80</td>\n",
       "    </tr>\n",
       "    <tr>\n",
       "      <th>64201</th>\n",
       "      <td>1294_122</td>\n",
       "      <td>1294</td>\n",
       "      <td>2018-10-29</td>\n",
       "      <td>397.70</td>\n",
       "    </tr>\n",
       "    <tr>\n",
       "      <th>51936</th>\n",
       "      <td>1233_16</td>\n",
       "      <td>1233</td>\n",
       "      <td>2018-10-23</td>\n",
       "      <td>241.69</td>\n",
       "    </tr>\n",
       "    <tr>\n",
       "      <th>97479</th>\n",
       "      <td>1460_2</td>\n",
       "      <td>1460</td>\n",
       "      <td>2018-06-16</td>\n",
       "      <td>783.37</td>\n",
       "    </tr>\n",
       "    <tr>\n",
       "      <th>35337</th>\n",
       "      <td>1160_41</td>\n",
       "      <td>1160</td>\n",
       "      <td>2018-09-02</td>\n",
       "      <td>0.00</td>\n",
       "    </tr>\n",
       "    <tr>\n",
       "      <th>69100</th>\n",
       "      <td>1322_13</td>\n",
       "      <td>1322</td>\n",
       "      <td>2018-11-27</td>\n",
       "      <td>620.49</td>\n",
       "    </tr>\n",
       "    <tr>\n",
       "      <th>21688</th>\n",
       "      <td>1099_443</td>\n",
       "      <td>1099</td>\n",
       "      <td>2018-07-03</td>\n",
       "      <td>714.42</td>\n",
       "    </tr>\n",
       "  </tbody>\n",
       "</table>\n",
       "</div>"
      ],
      "text/plain": [
       "              id  user_id session_date  mb_used\n",
       "102423  1490_238     1490   2018-10-15   373.01\n",
       "12472   1060_181     1060   2018-09-14   875.38\n",
       "91959    1426_53     1426   2018-12-29   627.48\n",
       "42208   1187_385     1187   2018-09-20   132.80\n",
       "64201   1294_122     1294   2018-10-29   397.70\n",
       "51936    1233_16     1233   2018-10-23   241.69\n",
       "97479     1460_2     1460   2018-06-16   783.37\n",
       "35337    1160_41     1160   2018-09-02     0.00\n",
       "69100    1322_13     1322   2018-11-27   620.49\n",
       "21688   1099_443     1099   2018-07-03   714.42"
      ]
     },
     "execution_count": 30,
     "metadata": {},
     "output_type": "execute_result"
    }
   ],
   "source": [
    "# Imprime una muestra de datos para el tráfico de internet\n",
    "\n",
    "df_internet.sample(10, random_state=42)"
   ]
  },
  {
   "cell_type": "markdown",
   "metadata": {},
   "source": [
    "- La columna `session_date` debería estar en formato `datetime` y también se puede desglosarla.\n",
    "- La columna `mb_used` en este caso no se redondea, por que se cuenta el total del uso en el mes y se redondea a `GB`, no por sesión individual."
   ]
  },
  {
   "cell_type": "markdown",
   "metadata": {
    "id": "yA0tkPFg0q1D"
   },
   "source": [
    "#### Corregir los datos"
   ]
  },
  {
   "cell_type": "markdown",
   "metadata": {
    "id": "zlZMuIEK0q1D"
   },
   "source": [
    "[Corrige los problemas obvios con los datos basándote en las observaciones iniciales.]"
   ]
  },
  {
   "cell_type": "code",
   "execution_count": 31,
   "metadata": {
    "id": "zVeanzdd0q1E"
   },
   "outputs": [],
   "source": [
    "df_internet['session_date'] = pd.to_datetime(df_internet['session_date'])"
   ]
  },
  {
   "cell_type": "markdown",
   "metadata": {
    "id": "e8_mLF4a0q1E"
   },
   "source": [
    "#### Enriquecer los datos"
   ]
  },
  {
   "cell_type": "markdown",
   "metadata": {
    "id": "xhNdn2tE0q1E"
   },
   "source": [
    "[Agrega factores adicionales a los datos si crees que pudieran ser útiles.]"
   ]
  },
  {
   "cell_type": "code",
   "execution_count": 32,
   "metadata": {
    "id": "ESiYPIEK0q1E"
   },
   "outputs": [],
   "source": [
    "df_internet['year'] = df_internet['session_date'].dt.year\n",
    "df_internet['month'] = df_internet['session_date'].dt.month\n",
    "df_internet['day'] = df_internet['session_date'].dt.day"
   ]
  },
  {
   "cell_type": "code",
   "execution_count": 33,
   "metadata": {},
   "outputs": [
    {
     "data": {
      "text/html": [
       "<div>\n",
       "<style scoped>\n",
       "    .dataframe tbody tr th:only-of-type {\n",
       "        vertical-align: middle;\n",
       "    }\n",
       "\n",
       "    .dataframe tbody tr th {\n",
       "        vertical-align: top;\n",
       "    }\n",
       "\n",
       "    .dataframe thead th {\n",
       "        text-align: right;\n",
       "    }\n",
       "</style>\n",
       "<table border=\"1\" class=\"dataframe\">\n",
       "  <thead>\n",
       "    <tr style=\"text-align: right;\">\n",
       "      <th></th>\n",
       "      <th>id</th>\n",
       "      <th>user_id</th>\n",
       "      <th>session_date</th>\n",
       "      <th>mb_used</th>\n",
       "      <th>year</th>\n",
       "      <th>month</th>\n",
       "      <th>day</th>\n",
       "    </tr>\n",
       "  </thead>\n",
       "  <tbody>\n",
       "    <tr>\n",
       "      <th>102423</th>\n",
       "      <td>1490_238</td>\n",
       "      <td>1490</td>\n",
       "      <td>2018-10-15</td>\n",
       "      <td>373.01</td>\n",
       "      <td>2018</td>\n",
       "      <td>10</td>\n",
       "      <td>15</td>\n",
       "    </tr>\n",
       "    <tr>\n",
       "      <th>12472</th>\n",
       "      <td>1060_181</td>\n",
       "      <td>1060</td>\n",
       "      <td>2018-09-14</td>\n",
       "      <td>875.38</td>\n",
       "      <td>2018</td>\n",
       "      <td>9</td>\n",
       "      <td>14</td>\n",
       "    </tr>\n",
       "    <tr>\n",
       "      <th>91959</th>\n",
       "      <td>1426_53</td>\n",
       "      <td>1426</td>\n",
       "      <td>2018-12-29</td>\n",
       "      <td>627.48</td>\n",
       "      <td>2018</td>\n",
       "      <td>12</td>\n",
       "      <td>29</td>\n",
       "    </tr>\n",
       "    <tr>\n",
       "      <th>42208</th>\n",
       "      <td>1187_385</td>\n",
       "      <td>1187</td>\n",
       "      <td>2018-09-20</td>\n",
       "      <td>132.80</td>\n",
       "      <td>2018</td>\n",
       "      <td>9</td>\n",
       "      <td>20</td>\n",
       "    </tr>\n",
       "    <tr>\n",
       "      <th>64201</th>\n",
       "      <td>1294_122</td>\n",
       "      <td>1294</td>\n",
       "      <td>2018-10-29</td>\n",
       "      <td>397.70</td>\n",
       "      <td>2018</td>\n",
       "      <td>10</td>\n",
       "      <td>29</td>\n",
       "    </tr>\n",
       "    <tr>\n",
       "      <th>51936</th>\n",
       "      <td>1233_16</td>\n",
       "      <td>1233</td>\n",
       "      <td>2018-10-23</td>\n",
       "      <td>241.69</td>\n",
       "      <td>2018</td>\n",
       "      <td>10</td>\n",
       "      <td>23</td>\n",
       "    </tr>\n",
       "    <tr>\n",
       "      <th>97479</th>\n",
       "      <td>1460_2</td>\n",
       "      <td>1460</td>\n",
       "      <td>2018-06-16</td>\n",
       "      <td>783.37</td>\n",
       "      <td>2018</td>\n",
       "      <td>6</td>\n",
       "      <td>16</td>\n",
       "    </tr>\n",
       "    <tr>\n",
       "      <th>35337</th>\n",
       "      <td>1160_41</td>\n",
       "      <td>1160</td>\n",
       "      <td>2018-09-02</td>\n",
       "      <td>0.00</td>\n",
       "      <td>2018</td>\n",
       "      <td>9</td>\n",
       "      <td>2</td>\n",
       "    </tr>\n",
       "    <tr>\n",
       "      <th>69100</th>\n",
       "      <td>1322_13</td>\n",
       "      <td>1322</td>\n",
       "      <td>2018-11-27</td>\n",
       "      <td>620.49</td>\n",
       "      <td>2018</td>\n",
       "      <td>11</td>\n",
       "      <td>27</td>\n",
       "    </tr>\n",
       "    <tr>\n",
       "      <th>21688</th>\n",
       "      <td>1099_443</td>\n",
       "      <td>1099</td>\n",
       "      <td>2018-07-03</td>\n",
       "      <td>714.42</td>\n",
       "      <td>2018</td>\n",
       "      <td>7</td>\n",
       "      <td>3</td>\n",
       "    </tr>\n",
       "  </tbody>\n",
       "</table>\n",
       "</div>"
      ],
      "text/plain": [
       "              id  user_id session_date  mb_used  year  month  day\n",
       "102423  1490_238     1490   2018-10-15   373.01  2018     10   15\n",
       "12472   1060_181     1060   2018-09-14   875.38  2018      9   14\n",
       "91959    1426_53     1426   2018-12-29   627.48  2018     12   29\n",
       "42208   1187_385     1187   2018-09-20   132.80  2018      9   20\n",
       "64201   1294_122     1294   2018-10-29   397.70  2018     10   29\n",
       "51936    1233_16     1233   2018-10-23   241.69  2018     10   23\n",
       "97479     1460_2     1460   2018-06-16   783.37  2018      6   16\n",
       "35337    1160_41     1160   2018-09-02     0.00  2018      9    2\n",
       "69100    1322_13     1322   2018-11-27   620.49  2018     11   27\n",
       "21688   1099_443     1099   2018-07-03   714.42  2018      7    3"
      ]
     },
     "execution_count": 33,
     "metadata": {},
     "output_type": "execute_result"
    }
   ],
   "source": [
    "df_internet.sample(10, random_state=42)"
   ]
  },
  {
   "cell_type": "markdown",
   "metadata": {
    "id": "3UA2cqIW0q1E"
   },
   "source": [
    "## Estudiar las condiciones de las tarifas"
   ]
  },
  {
   "cell_type": "code",
   "execution_count": 34,
   "metadata": {
    "id": "i409op8p0q1F"
   },
   "outputs": [
    {
     "data": {
      "text/html": [
       "<div>\n",
       "<style scoped>\n",
       "    .dataframe tbody tr th:only-of-type {\n",
       "        vertical-align: middle;\n",
       "    }\n",
       "\n",
       "    .dataframe tbody tr th {\n",
       "        vertical-align: top;\n",
       "    }\n",
       "\n",
       "    .dataframe thead th {\n",
       "        text-align: right;\n",
       "    }\n",
       "</style>\n",
       "<table border=\"1\" class=\"dataframe\">\n",
       "  <thead>\n",
       "    <tr style=\"text-align: right;\">\n",
       "      <th></th>\n",
       "      <th>messages_included</th>\n",
       "      <th>gb_per_month_included</th>\n",
       "      <th>minutes_included</th>\n",
       "      <th>usd_monthly_pay</th>\n",
       "      <th>usd_per_gb</th>\n",
       "      <th>usd_per_message</th>\n",
       "      <th>usd_per_minute</th>\n",
       "      <th>plan_name</th>\n",
       "    </tr>\n",
       "  </thead>\n",
       "  <tbody>\n",
       "    <tr>\n",
       "      <th>0</th>\n",
       "      <td>50</td>\n",
       "      <td>15</td>\n",
       "      <td>500</td>\n",
       "      <td>20</td>\n",
       "      <td>10</td>\n",
       "      <td>0.03</td>\n",
       "      <td>0.03</td>\n",
       "      <td>surf</td>\n",
       "    </tr>\n",
       "    <tr>\n",
       "      <th>1</th>\n",
       "      <td>1000</td>\n",
       "      <td>30</td>\n",
       "      <td>3000</td>\n",
       "      <td>70</td>\n",
       "      <td>7</td>\n",
       "      <td>0.01</td>\n",
       "      <td>0.01</td>\n",
       "      <td>ultimate</td>\n",
       "    </tr>\n",
       "  </tbody>\n",
       "</table>\n",
       "</div>"
      ],
      "text/plain": [
       "   messages_included  gb_per_month_included  minutes_included  \\\n",
       "0                 50                     15               500   \n",
       "1               1000                     30              3000   \n",
       "\n",
       "   usd_monthly_pay  usd_per_gb  usd_per_message  usd_per_minute plan_name  \n",
       "0               20          10             0.03            0.03      surf  \n",
       "1               70           7             0.01            0.01  ultimate  "
      ]
     },
     "execution_count": 34,
     "metadata": {},
     "output_type": "execute_result"
    }
   ],
   "source": [
    "# Imprime las condiciones de la tarifa y asegúrate de que te quedan claras\n",
    "\n",
    "df_plans"
   ]
  },
  {
   "cell_type": "markdown",
   "metadata": {},
   "source": [
    "Las columnas `_included` son los límites para cada mes para cada plan, si se pasa se cobrará extra por minuto y gb usados. Las llamadas individuales se redondean hacia arriba a minutos, las sesiones de internet se acumulan los mb y se redondean hacia arriba los gb al final del mes."
   ]
  },
  {
   "cell_type": "markdown",
   "metadata": {
    "id": "hMR1tP5d0q1F"
   },
   "source": [
    "## Agregar datos por usuario\n"
   ]
  },
  {
   "cell_type": "markdown",
   "metadata": {},
   "source": [
    "No es necesario agrupar por año, ya que sabemos que todos los datos son del 2018"
   ]
  },
  {
   "cell_type": "code",
   "execution_count": 35,
   "metadata": {
    "id": "A332cedB0q1G"
   },
   "outputs": [
    {
     "data": {
      "text/plain": [
       "user_id  month\n",
       "1000     12       16\n",
       "1001     8        27\n",
       "         9        49\n",
       "         10       65\n",
       "         11       64\n",
       "                  ..\n",
       "1498     12       39\n",
       "1499     9        41\n",
       "         10       53\n",
       "         11       45\n",
       "         12       65\n",
       "Name: call_date, Length: 2258, dtype: int64"
      ]
     },
     "execution_count": 35,
     "metadata": {},
     "output_type": "execute_result"
    }
   ],
   "source": [
    "# Calcula el número de llamadas hechas por cada usuario al mes. Guarda el resultado.\n",
    "\n",
    "calls = df_calls.groupby(['user_id','month'])['call_date'].count()\n",
    "calls"
   ]
  },
  {
   "cell_type": "code",
   "execution_count": 36,
   "metadata": {
    "id": "aw2cmuql0q1G"
   },
   "outputs": [
    {
     "data": {
      "text/plain": [
       "user_id  month\n",
       "1000     12       124\n",
       "1001     8        182\n",
       "         9        315\n",
       "         10       393\n",
       "         11       426\n",
       "                 ... \n",
       "1498     12       339\n",
       "1499     9        346\n",
       "         10       385\n",
       "         11       308\n",
       "         12       496\n",
       "Name: duration_rounded, Length: 2258, dtype: int64"
      ]
     },
     "execution_count": 36,
     "metadata": {},
     "output_type": "execute_result"
    }
   ],
   "source": [
    "# Calcula la cantidad de minutos usados por cada usuario al mes. Guarda el resultado.\n",
    "\n",
    "minutes = df_calls.groupby(['user_id','month'])['duration_rounded'].sum()\n",
    "minutes"
   ]
  },
  {
   "cell_type": "code",
   "execution_count": 37,
   "metadata": {
    "id": "CcQvNHn60q1G"
   },
   "outputs": [
    {
     "data": {
      "text/plain": [
       "user_id  month\n",
       "1000     12       11\n",
       "1001     8        30\n",
       "         9        44\n",
       "         10       53\n",
       "         11       36\n",
       "                  ..\n",
       "1496     9        21\n",
       "         10       18\n",
       "         11       13\n",
       "         12       11\n",
       "1497     12       50\n",
       "Name: message_date, Length: 1806, dtype: int64"
      ]
     },
     "execution_count": 37,
     "metadata": {},
     "output_type": "execute_result"
    }
   ],
   "source": [
    "# Calcula el número de mensajes enviados por cada usuario al mes. Guarda el resultado.\n",
    "\n",
    "messages = df_messages.groupby(['user_id','month'])['message_date'].count()\n",
    "messages"
   ]
  },
  {
   "cell_type": "code",
   "execution_count": 38,
   "metadata": {
    "id": "H1AqN2eG0q1H"
   },
   "outputs": [
    {
     "data": {
      "text/plain": [
       "user_id  month\n",
       "1000     12        2.0\n",
       "1001     8         7.0\n",
       "         9        14.0\n",
       "         10       22.0\n",
       "         11       19.0\n",
       "                  ... \n",
       "1498     12       23.0\n",
       "1499     9        13.0\n",
       "         10       20.0\n",
       "         11       17.0\n",
       "         12       22.0\n",
       "Name: gb_used, Length: 2277, dtype: float64"
      ]
     },
     "execution_count": 38,
     "metadata": {},
     "output_type": "execute_result"
    }
   ],
   "source": [
    "# Calcula el volumen del tráfico de Internet usado por cada usuario al mes. Guarda el resultado.\n",
    "\n",
    "internet = df_internet.groupby(['user_id','month'])['mb_used'].sum()/1024 #dividimos entre 1024 para convertir a gb\n",
    "internet = internet.apply(np.ceil) #Aplicamos \"techo\" ya que la fracción de GB se cobra como un GB entero, facilitará el análisis más adelante\n",
    "internet.name = 'gb_used' #cambiamos el nombre del pd.Series para ajustarse más a la información que tenemos guardada dentro\n",
    "internet"
   ]
  },
  {
   "cell_type": "markdown",
   "metadata": {},
   "source": [
    "<div class=\"alert alert-block alert-danger\">\n",
    "<b>Comentario del revisor (1ra Iteracion)</b> <a class=“tocSkip”></a>\n",
    "\n",
    "En esta parte también deberías aplicar un redondeo hacia luego de hacer la transformación de los datos en `mb_used` para tenerlos en `GB`, recuerda que el costo está en `usd_per_gb` por lo que solo con mb no se puede calcular la métrica correctamente, una vez tengas la transformación en gb también deberías aplicar un redondeo hacia arriba con `np.ceil()` porque la fracción de GB se cobra cómo 1 GB entero\n",
    "</div>"
   ]
  },
  {
   "cell_type": "markdown",
   "metadata": {},
   "source": [
    "<div class=\"alert alert-block alert-info\">\n",
    "<b>Respuesta del estudiante</b> <a class=“tocSkip”></a>\n",
    "Modificación realizada\n",
    "</div>"
   ]
  },
  {
   "cell_type": "code",
   "execution_count": 39,
   "metadata": {
    "id": "FW99ykyf0q1H"
   },
   "outputs": [],
   "source": [
    "# Fusiona los datos de llamadas, minutos, mensajes e Internet con base en user_id y month\n",
    "use_of_plan = pd.merge(calls,minutes,left_index=True,right_index=True,how='outer').merge(messages,left_index=True,right_index=True,how='outer').merge(internet,left_index=True,right_index=True,how='outer')"
   ]
  },
  {
   "cell_type": "code",
   "execution_count": 40,
   "metadata": {},
   "outputs": [],
   "source": [
    "use_of_plan.columns = ['calls','sum_duration','messages','gb_used']"
   ]
  },
  {
   "cell_type": "markdown",
   "metadata": {},
   "source": [
    "Nos interesa guardar toda la información, no sólo en donde los usuarios usaron tanto llamadas como mensajes e internet (todo junto), sino también si sólo usaron llamadas y mensajes y no internet, o sólo internet, etc... (todas las combinaciones). Por lo que no usamos el `inner merge` por defecto, sino el `outer merge`"
   ]
  },
  {
   "cell_type": "code",
   "execution_count": 41,
   "metadata": {
    "id": "0dNOXHag0q1H"
   },
   "outputs": [],
   "source": [
    "# Añade la información de la tarifa\n",
    "\n",
    "use_of_plan = use_of_plan.reset_index()"
   ]
  },
  {
   "cell_type": "code",
   "execution_count": 42,
   "metadata": {},
   "outputs": [],
   "source": [
    "use_of_plan = use_of_plan.merge(df_users.loc[:,['user_id','plan']],on='user_id').merge(df_plans,left_on='plan',right_on='plan_name')"
   ]
  },
  {
   "cell_type": "code",
   "execution_count": 43,
   "metadata": {},
   "outputs": [
    {
     "data": {
      "text/html": [
       "<div>\n",
       "<style scoped>\n",
       "    .dataframe tbody tr th:only-of-type {\n",
       "        vertical-align: middle;\n",
       "    }\n",
       "\n",
       "    .dataframe tbody tr th {\n",
       "        vertical-align: top;\n",
       "    }\n",
       "\n",
       "    .dataframe thead th {\n",
       "        text-align: right;\n",
       "    }\n",
       "</style>\n",
       "<table border=\"1\" class=\"dataframe\">\n",
       "  <thead>\n",
       "    <tr style=\"text-align: right;\">\n",
       "      <th></th>\n",
       "      <th>user_id</th>\n",
       "      <th>month</th>\n",
       "      <th>calls</th>\n",
       "      <th>sum_duration</th>\n",
       "      <th>messages</th>\n",
       "      <th>gb_used</th>\n",
       "      <th>plan</th>\n",
       "      <th>messages_included</th>\n",
       "      <th>gb_per_month_included</th>\n",
       "      <th>minutes_included</th>\n",
       "      <th>usd_monthly_pay</th>\n",
       "      <th>usd_per_gb</th>\n",
       "      <th>usd_per_message</th>\n",
       "      <th>usd_per_minute</th>\n",
       "      <th>plan_name</th>\n",
       "    </tr>\n",
       "  </thead>\n",
       "  <tbody>\n",
       "    <tr>\n",
       "      <th>0</th>\n",
       "      <td>1000</td>\n",
       "      <td>12</td>\n",
       "      <td>16.0</td>\n",
       "      <td>124.0</td>\n",
       "      <td>11.0</td>\n",
       "      <td>2.0</td>\n",
       "      <td>ultimate</td>\n",
       "      <td>1000</td>\n",
       "      <td>30</td>\n",
       "      <td>3000</td>\n",
       "      <td>70</td>\n",
       "      <td>7</td>\n",
       "      <td>0.01</td>\n",
       "      <td>0.01</td>\n",
       "      <td>ultimate</td>\n",
       "    </tr>\n",
       "    <tr>\n",
       "      <th>1</th>\n",
       "      <td>1001</td>\n",
       "      <td>8</td>\n",
       "      <td>27.0</td>\n",
       "      <td>182.0</td>\n",
       "      <td>30.0</td>\n",
       "      <td>7.0</td>\n",
       "      <td>surf</td>\n",
       "      <td>50</td>\n",
       "      <td>15</td>\n",
       "      <td>500</td>\n",
       "      <td>20</td>\n",
       "      <td>10</td>\n",
       "      <td>0.03</td>\n",
       "      <td>0.03</td>\n",
       "      <td>surf</td>\n",
       "    </tr>\n",
       "    <tr>\n",
       "      <th>2</th>\n",
       "      <td>1001</td>\n",
       "      <td>9</td>\n",
       "      <td>49.0</td>\n",
       "      <td>315.0</td>\n",
       "      <td>44.0</td>\n",
       "      <td>14.0</td>\n",
       "      <td>surf</td>\n",
       "      <td>50</td>\n",
       "      <td>15</td>\n",
       "      <td>500</td>\n",
       "      <td>20</td>\n",
       "      <td>10</td>\n",
       "      <td>0.03</td>\n",
       "      <td>0.03</td>\n",
       "      <td>surf</td>\n",
       "    </tr>\n",
       "    <tr>\n",
       "      <th>3</th>\n",
       "      <td>1001</td>\n",
       "      <td>10</td>\n",
       "      <td>65.0</td>\n",
       "      <td>393.0</td>\n",
       "      <td>53.0</td>\n",
       "      <td>22.0</td>\n",
       "      <td>surf</td>\n",
       "      <td>50</td>\n",
       "      <td>15</td>\n",
       "      <td>500</td>\n",
       "      <td>20</td>\n",
       "      <td>10</td>\n",
       "      <td>0.03</td>\n",
       "      <td>0.03</td>\n",
       "      <td>surf</td>\n",
       "    </tr>\n",
       "    <tr>\n",
       "      <th>4</th>\n",
       "      <td>1001</td>\n",
       "      <td>11</td>\n",
       "      <td>64.0</td>\n",
       "      <td>426.0</td>\n",
       "      <td>36.0</td>\n",
       "      <td>19.0</td>\n",
       "      <td>surf</td>\n",
       "      <td>50</td>\n",
       "      <td>15</td>\n",
       "      <td>500</td>\n",
       "      <td>20</td>\n",
       "      <td>10</td>\n",
       "      <td>0.03</td>\n",
       "      <td>0.03</td>\n",
       "      <td>surf</td>\n",
       "    </tr>\n",
       "    <tr>\n",
       "      <th>...</th>\n",
       "      <td>...</td>\n",
       "      <td>...</td>\n",
       "      <td>...</td>\n",
       "      <td>...</td>\n",
       "      <td>...</td>\n",
       "      <td>...</td>\n",
       "      <td>...</td>\n",
       "      <td>...</td>\n",
       "      <td>...</td>\n",
       "      <td>...</td>\n",
       "      <td>...</td>\n",
       "      <td>...</td>\n",
       "      <td>...</td>\n",
       "      <td>...</td>\n",
       "      <td>...</td>\n",
       "    </tr>\n",
       "    <tr>\n",
       "      <th>2288</th>\n",
       "      <td>1498</td>\n",
       "      <td>12</td>\n",
       "      <td>39.0</td>\n",
       "      <td>339.0</td>\n",
       "      <td>NaN</td>\n",
       "      <td>23.0</td>\n",
       "      <td>surf</td>\n",
       "      <td>50</td>\n",
       "      <td>15</td>\n",
       "      <td>500</td>\n",
       "      <td>20</td>\n",
       "      <td>10</td>\n",
       "      <td>0.03</td>\n",
       "      <td>0.03</td>\n",
       "      <td>surf</td>\n",
       "    </tr>\n",
       "    <tr>\n",
       "      <th>2289</th>\n",
       "      <td>1499</td>\n",
       "      <td>9</td>\n",
       "      <td>41.0</td>\n",
       "      <td>346.0</td>\n",
       "      <td>NaN</td>\n",
       "      <td>13.0</td>\n",
       "      <td>surf</td>\n",
       "      <td>50</td>\n",
       "      <td>15</td>\n",
       "      <td>500</td>\n",
       "      <td>20</td>\n",
       "      <td>10</td>\n",
       "      <td>0.03</td>\n",
       "      <td>0.03</td>\n",
       "      <td>surf</td>\n",
       "    </tr>\n",
       "    <tr>\n",
       "      <th>2290</th>\n",
       "      <td>1499</td>\n",
       "      <td>10</td>\n",
       "      <td>53.0</td>\n",
       "      <td>385.0</td>\n",
       "      <td>NaN</td>\n",
       "      <td>20.0</td>\n",
       "      <td>surf</td>\n",
       "      <td>50</td>\n",
       "      <td>15</td>\n",
       "      <td>500</td>\n",
       "      <td>20</td>\n",
       "      <td>10</td>\n",
       "      <td>0.03</td>\n",
       "      <td>0.03</td>\n",
       "      <td>surf</td>\n",
       "    </tr>\n",
       "    <tr>\n",
       "      <th>2291</th>\n",
       "      <td>1499</td>\n",
       "      <td>11</td>\n",
       "      <td>45.0</td>\n",
       "      <td>308.0</td>\n",
       "      <td>NaN</td>\n",
       "      <td>17.0</td>\n",
       "      <td>surf</td>\n",
       "      <td>50</td>\n",
       "      <td>15</td>\n",
       "      <td>500</td>\n",
       "      <td>20</td>\n",
       "      <td>10</td>\n",
       "      <td>0.03</td>\n",
       "      <td>0.03</td>\n",
       "      <td>surf</td>\n",
       "    </tr>\n",
       "    <tr>\n",
       "      <th>2292</th>\n",
       "      <td>1499</td>\n",
       "      <td>12</td>\n",
       "      <td>65.0</td>\n",
       "      <td>496.0</td>\n",
       "      <td>NaN</td>\n",
       "      <td>22.0</td>\n",
       "      <td>surf</td>\n",
       "      <td>50</td>\n",
       "      <td>15</td>\n",
       "      <td>500</td>\n",
       "      <td>20</td>\n",
       "      <td>10</td>\n",
       "      <td>0.03</td>\n",
       "      <td>0.03</td>\n",
       "      <td>surf</td>\n",
       "    </tr>\n",
       "  </tbody>\n",
       "</table>\n",
       "<p>2293 rows × 15 columns</p>\n",
       "</div>"
      ],
      "text/plain": [
       "      user_id  month  calls  sum_duration  messages  gb_used      plan  \\\n",
       "0        1000     12   16.0         124.0      11.0      2.0  ultimate   \n",
       "1        1001      8   27.0         182.0      30.0      7.0      surf   \n",
       "2        1001      9   49.0         315.0      44.0     14.0      surf   \n",
       "3        1001     10   65.0         393.0      53.0     22.0      surf   \n",
       "4        1001     11   64.0         426.0      36.0     19.0      surf   \n",
       "...       ...    ...    ...           ...       ...      ...       ...   \n",
       "2288     1498     12   39.0         339.0       NaN     23.0      surf   \n",
       "2289     1499      9   41.0         346.0       NaN     13.0      surf   \n",
       "2290     1499     10   53.0         385.0       NaN     20.0      surf   \n",
       "2291     1499     11   45.0         308.0       NaN     17.0      surf   \n",
       "2292     1499     12   65.0         496.0       NaN     22.0      surf   \n",
       "\n",
       "      messages_included  gb_per_month_included  minutes_included  \\\n",
       "0                  1000                     30              3000   \n",
       "1                    50                     15               500   \n",
       "2                    50                     15               500   \n",
       "3                    50                     15               500   \n",
       "4                    50                     15               500   \n",
       "...                 ...                    ...               ...   \n",
       "2288                 50                     15               500   \n",
       "2289                 50                     15               500   \n",
       "2290                 50                     15               500   \n",
       "2291                 50                     15               500   \n",
       "2292                 50                     15               500   \n",
       "\n",
       "      usd_monthly_pay  usd_per_gb  usd_per_message  usd_per_minute plan_name  \n",
       "0                  70           7             0.01            0.01  ultimate  \n",
       "1                  20          10             0.03            0.03      surf  \n",
       "2                  20          10             0.03            0.03      surf  \n",
       "3                  20          10             0.03            0.03      surf  \n",
       "4                  20          10             0.03            0.03      surf  \n",
       "...               ...         ...              ...             ...       ...  \n",
       "2288               20          10             0.03            0.03      surf  \n",
       "2289               20          10             0.03            0.03      surf  \n",
       "2290               20          10             0.03            0.03      surf  \n",
       "2291               20          10             0.03            0.03      surf  \n",
       "2292               20          10             0.03            0.03      surf  \n",
       "\n",
       "[2293 rows x 15 columns]"
      ]
     },
     "execution_count": 43,
     "metadata": {},
     "output_type": "execute_result"
    }
   ],
   "source": [
    "use_of_plan"
   ]
  },
  {
   "cell_type": "code",
   "execution_count": 44,
   "metadata": {},
   "outputs": [],
   "source": [
    "def add_minutes(user): #calcular cuanto se cobra por minuto exedido para cada mes por cada usuario\n",
    "    if user['sum_duration'] > user['minutes_included']:\n",
    "        return (user['sum_duration']-user['minutes_included'])*user['usd_per_minute']\n",
    "    else:\n",
    "        return 0"
   ]
  },
  {
   "cell_type": "code",
   "execution_count": 45,
   "metadata": {},
   "outputs": [],
   "source": [
    "def add_messages(user): #calcular cuanto se cobra por mensaje exedido para cada mes por cada usuario\n",
    "    if user['messages'] > user['messages_included']:\n",
    "        return (user['messages']-user['messages_included'])*user['usd_per_message']\n",
    "    else:\n",
    "        return 0"
   ]
  },
  {
   "cell_type": "code",
   "execution_count": 46,
   "metadata": {},
   "outputs": [],
   "source": [
    "def add_gb(user): #calcular cuanto se cobra por gigabyte exedido para cada mes por cada usuario\n",
    "    if user['gb_used'] > user['gb_per_month_included']:\n",
    "        return (user['gb_used']-user['gb_per_month_included'])*user['usd_per_gb']\n",
    "    else:\n",
    "        return 0"
   ]
  },
  {
   "cell_type": "markdown",
   "metadata": {},
   "source": [
    "<div class=\"alert alert-block alert-success\">\n",
    "<b>Comentario del revisor (1ra Iteracion)</b> <a class=“tocSkip”></a>\n",
    "\n",
    "Muy buen trabajo con estas funciones! \n",
    "</div>"
   ]
  },
  {
   "cell_type": "markdown",
   "metadata": {},
   "source": [
    "<div class=\"alert alert-block alert-info\">\n",
    "<b>Respuesta del estudiante</b> <a class=“tocSkip”></a>\n",
    "Modificación de la función `add_gb` para ajustarse a las modificaciones que se hicieron antes, ya no es necesario convertir aquí\n",
    "</div>"
   ]
  },
  {
   "cell_type": "code",
   "execution_count": 47,
   "metadata": {
    "id": "5FGCf_c60q1I"
   },
   "outputs": [],
   "source": [
    "# Calcula el ingreso mensual para cada usuario\n",
    "\n",
    "use_of_plan['total'] = use_of_plan['usd_monthly_pay']+use_of_plan.apply(add_minutes,axis=1)+use_of_plan.apply(add_messages,axis=1)+use_of_plan.apply(add_gb,axis=1) #para cada usuario por mes"
   ]
  },
  {
   "cell_type": "code",
   "execution_count": 48,
   "metadata": {},
   "outputs": [
    {
     "data": {
      "text/html": [
       "<div>\n",
       "<style scoped>\n",
       "    .dataframe tbody tr th:only-of-type {\n",
       "        vertical-align: middle;\n",
       "    }\n",
       "\n",
       "    .dataframe tbody tr th {\n",
       "        vertical-align: top;\n",
       "    }\n",
       "\n",
       "    .dataframe thead th {\n",
       "        text-align: right;\n",
       "    }\n",
       "</style>\n",
       "<table border=\"1\" class=\"dataframe\">\n",
       "  <thead>\n",
       "    <tr style=\"text-align: right;\">\n",
       "      <th></th>\n",
       "      <th>user_id</th>\n",
       "      <th>month</th>\n",
       "      <th>calls</th>\n",
       "      <th>sum_duration</th>\n",
       "      <th>messages</th>\n",
       "      <th>gb_used</th>\n",
       "      <th>plan</th>\n",
       "      <th>messages_included</th>\n",
       "      <th>gb_per_month_included</th>\n",
       "      <th>minutes_included</th>\n",
       "      <th>usd_monthly_pay</th>\n",
       "      <th>usd_per_gb</th>\n",
       "      <th>usd_per_message</th>\n",
       "      <th>usd_per_minute</th>\n",
       "      <th>plan_name</th>\n",
       "      <th>total</th>\n",
       "    </tr>\n",
       "  </thead>\n",
       "  <tbody>\n",
       "    <tr>\n",
       "      <th>0</th>\n",
       "      <td>1000</td>\n",
       "      <td>12</td>\n",
       "      <td>16.0</td>\n",
       "      <td>124.0</td>\n",
       "      <td>11.0</td>\n",
       "      <td>2.0</td>\n",
       "      <td>ultimate</td>\n",
       "      <td>1000</td>\n",
       "      <td>30</td>\n",
       "      <td>3000</td>\n",
       "      <td>70</td>\n",
       "      <td>7</td>\n",
       "      <td>0.01</td>\n",
       "      <td>0.01</td>\n",
       "      <td>ultimate</td>\n",
       "      <td>70.00</td>\n",
       "    </tr>\n",
       "    <tr>\n",
       "      <th>1</th>\n",
       "      <td>1001</td>\n",
       "      <td>8</td>\n",
       "      <td>27.0</td>\n",
       "      <td>182.0</td>\n",
       "      <td>30.0</td>\n",
       "      <td>7.0</td>\n",
       "      <td>surf</td>\n",
       "      <td>50</td>\n",
       "      <td>15</td>\n",
       "      <td>500</td>\n",
       "      <td>20</td>\n",
       "      <td>10</td>\n",
       "      <td>0.03</td>\n",
       "      <td>0.03</td>\n",
       "      <td>surf</td>\n",
       "      <td>20.00</td>\n",
       "    </tr>\n",
       "    <tr>\n",
       "      <th>2</th>\n",
       "      <td>1001</td>\n",
       "      <td>9</td>\n",
       "      <td>49.0</td>\n",
       "      <td>315.0</td>\n",
       "      <td>44.0</td>\n",
       "      <td>14.0</td>\n",
       "      <td>surf</td>\n",
       "      <td>50</td>\n",
       "      <td>15</td>\n",
       "      <td>500</td>\n",
       "      <td>20</td>\n",
       "      <td>10</td>\n",
       "      <td>0.03</td>\n",
       "      <td>0.03</td>\n",
       "      <td>surf</td>\n",
       "      <td>20.00</td>\n",
       "    </tr>\n",
       "    <tr>\n",
       "      <th>3</th>\n",
       "      <td>1001</td>\n",
       "      <td>10</td>\n",
       "      <td>65.0</td>\n",
       "      <td>393.0</td>\n",
       "      <td>53.0</td>\n",
       "      <td>22.0</td>\n",
       "      <td>surf</td>\n",
       "      <td>50</td>\n",
       "      <td>15</td>\n",
       "      <td>500</td>\n",
       "      <td>20</td>\n",
       "      <td>10</td>\n",
       "      <td>0.03</td>\n",
       "      <td>0.03</td>\n",
       "      <td>surf</td>\n",
       "      <td>90.09</td>\n",
       "    </tr>\n",
       "    <tr>\n",
       "      <th>4</th>\n",
       "      <td>1001</td>\n",
       "      <td>11</td>\n",
       "      <td>64.0</td>\n",
       "      <td>426.0</td>\n",
       "      <td>36.0</td>\n",
       "      <td>19.0</td>\n",
       "      <td>surf</td>\n",
       "      <td>50</td>\n",
       "      <td>15</td>\n",
       "      <td>500</td>\n",
       "      <td>20</td>\n",
       "      <td>10</td>\n",
       "      <td>0.03</td>\n",
       "      <td>0.03</td>\n",
       "      <td>surf</td>\n",
       "      <td>60.00</td>\n",
       "    </tr>\n",
       "    <tr>\n",
       "      <th>...</th>\n",
       "      <td>...</td>\n",
       "      <td>...</td>\n",
       "      <td>...</td>\n",
       "      <td>...</td>\n",
       "      <td>...</td>\n",
       "      <td>...</td>\n",
       "      <td>...</td>\n",
       "      <td>...</td>\n",
       "      <td>...</td>\n",
       "      <td>...</td>\n",
       "      <td>...</td>\n",
       "      <td>...</td>\n",
       "      <td>...</td>\n",
       "      <td>...</td>\n",
       "      <td>...</td>\n",
       "      <td>...</td>\n",
       "    </tr>\n",
       "    <tr>\n",
       "      <th>2288</th>\n",
       "      <td>1498</td>\n",
       "      <td>12</td>\n",
       "      <td>39.0</td>\n",
       "      <td>339.0</td>\n",
       "      <td>NaN</td>\n",
       "      <td>23.0</td>\n",
       "      <td>surf</td>\n",
       "      <td>50</td>\n",
       "      <td>15</td>\n",
       "      <td>500</td>\n",
       "      <td>20</td>\n",
       "      <td>10</td>\n",
       "      <td>0.03</td>\n",
       "      <td>0.03</td>\n",
       "      <td>surf</td>\n",
       "      <td>100.00</td>\n",
       "    </tr>\n",
       "    <tr>\n",
       "      <th>2289</th>\n",
       "      <td>1499</td>\n",
       "      <td>9</td>\n",
       "      <td>41.0</td>\n",
       "      <td>346.0</td>\n",
       "      <td>NaN</td>\n",
       "      <td>13.0</td>\n",
       "      <td>surf</td>\n",
       "      <td>50</td>\n",
       "      <td>15</td>\n",
       "      <td>500</td>\n",
       "      <td>20</td>\n",
       "      <td>10</td>\n",
       "      <td>0.03</td>\n",
       "      <td>0.03</td>\n",
       "      <td>surf</td>\n",
       "      <td>20.00</td>\n",
       "    </tr>\n",
       "    <tr>\n",
       "      <th>2290</th>\n",
       "      <td>1499</td>\n",
       "      <td>10</td>\n",
       "      <td>53.0</td>\n",
       "      <td>385.0</td>\n",
       "      <td>NaN</td>\n",
       "      <td>20.0</td>\n",
       "      <td>surf</td>\n",
       "      <td>50</td>\n",
       "      <td>15</td>\n",
       "      <td>500</td>\n",
       "      <td>20</td>\n",
       "      <td>10</td>\n",
       "      <td>0.03</td>\n",
       "      <td>0.03</td>\n",
       "      <td>surf</td>\n",
       "      <td>70.00</td>\n",
       "    </tr>\n",
       "    <tr>\n",
       "      <th>2291</th>\n",
       "      <td>1499</td>\n",
       "      <td>11</td>\n",
       "      <td>45.0</td>\n",
       "      <td>308.0</td>\n",
       "      <td>NaN</td>\n",
       "      <td>17.0</td>\n",
       "      <td>surf</td>\n",
       "      <td>50</td>\n",
       "      <td>15</td>\n",
       "      <td>500</td>\n",
       "      <td>20</td>\n",
       "      <td>10</td>\n",
       "      <td>0.03</td>\n",
       "      <td>0.03</td>\n",
       "      <td>surf</td>\n",
       "      <td>40.00</td>\n",
       "    </tr>\n",
       "    <tr>\n",
       "      <th>2292</th>\n",
       "      <td>1499</td>\n",
       "      <td>12</td>\n",
       "      <td>65.0</td>\n",
       "      <td>496.0</td>\n",
       "      <td>NaN</td>\n",
       "      <td>22.0</td>\n",
       "      <td>surf</td>\n",
       "      <td>50</td>\n",
       "      <td>15</td>\n",
       "      <td>500</td>\n",
       "      <td>20</td>\n",
       "      <td>10</td>\n",
       "      <td>0.03</td>\n",
       "      <td>0.03</td>\n",
       "      <td>surf</td>\n",
       "      <td>90.00</td>\n",
       "    </tr>\n",
       "  </tbody>\n",
       "</table>\n",
       "<p>2293 rows × 16 columns</p>\n",
       "</div>"
      ],
      "text/plain": [
       "      user_id  month  calls  sum_duration  messages  gb_used      plan  \\\n",
       "0        1000     12   16.0         124.0      11.0      2.0  ultimate   \n",
       "1        1001      8   27.0         182.0      30.0      7.0      surf   \n",
       "2        1001      9   49.0         315.0      44.0     14.0      surf   \n",
       "3        1001     10   65.0         393.0      53.0     22.0      surf   \n",
       "4        1001     11   64.0         426.0      36.0     19.0      surf   \n",
       "...       ...    ...    ...           ...       ...      ...       ...   \n",
       "2288     1498     12   39.0         339.0       NaN     23.0      surf   \n",
       "2289     1499      9   41.0         346.0       NaN     13.0      surf   \n",
       "2290     1499     10   53.0         385.0       NaN     20.0      surf   \n",
       "2291     1499     11   45.0         308.0       NaN     17.0      surf   \n",
       "2292     1499     12   65.0         496.0       NaN     22.0      surf   \n",
       "\n",
       "      messages_included  gb_per_month_included  minutes_included  \\\n",
       "0                  1000                     30              3000   \n",
       "1                    50                     15               500   \n",
       "2                    50                     15               500   \n",
       "3                    50                     15               500   \n",
       "4                    50                     15               500   \n",
       "...                 ...                    ...               ...   \n",
       "2288                 50                     15               500   \n",
       "2289                 50                     15               500   \n",
       "2290                 50                     15               500   \n",
       "2291                 50                     15               500   \n",
       "2292                 50                     15               500   \n",
       "\n",
       "      usd_monthly_pay  usd_per_gb  usd_per_message  usd_per_minute plan_name  \\\n",
       "0                  70           7             0.01            0.01  ultimate   \n",
       "1                  20          10             0.03            0.03      surf   \n",
       "2                  20          10             0.03            0.03      surf   \n",
       "3                  20          10             0.03            0.03      surf   \n",
       "4                  20          10             0.03            0.03      surf   \n",
       "...               ...         ...              ...             ...       ...   \n",
       "2288               20          10             0.03            0.03      surf   \n",
       "2289               20          10             0.03            0.03      surf   \n",
       "2290               20          10             0.03            0.03      surf   \n",
       "2291               20          10             0.03            0.03      surf   \n",
       "2292               20          10             0.03            0.03      surf   \n",
       "\n",
       "       total  \n",
       "0      70.00  \n",
       "1      20.00  \n",
       "2      20.00  \n",
       "3      90.09  \n",
       "4      60.00  \n",
       "...      ...  \n",
       "2288  100.00  \n",
       "2289   20.00  \n",
       "2290   70.00  \n",
       "2291   40.00  \n",
       "2292   90.00  \n",
       "\n",
       "[2293 rows x 16 columns]"
      ]
     },
     "execution_count": 48,
     "metadata": {},
     "output_type": "execute_result"
    }
   ],
   "source": [
    "use_of_plan"
   ]
  },
  {
   "cell_type": "code",
   "execution_count": 49,
   "metadata": {},
   "outputs": [],
   "source": [
    "#juntar los meses para cada usuario\n",
    "\n",
    "total_per_user = use_of_plan.groupby('user_id')['total'].sum()"
   ]
  },
  {
   "cell_type": "code",
   "execution_count": 50,
   "metadata": {},
   "outputs": [
    {
     "data": {
      "text/plain": [
       "user_id\n",
       "1000     70.00\n",
       "1001    250.09\n",
       "1002    100.00\n",
       "1003    158.12\n",
       "1004    610.00\n",
       "         ...  \n",
       "1495    473.30\n",
       "1496    140.00\n",
       "1497     70.00\n",
       "1498    850.00\n",
       "1499    220.00\n",
       "Name: total, Length: 490, dtype: float64"
      ]
     },
     "execution_count": 50,
     "metadata": {},
     "output_type": "execute_result"
    }
   ],
   "source": [
    "total_per_user"
   ]
  },
  {
   "cell_type": "code",
   "execution_count": 51,
   "metadata": {},
   "outputs": [],
   "source": [
    "#def round_mb_up(mb_used): #función para redondear hacia arriba el consumo de GB\n",
    "#    if mb_used%1024 != 0:\n",
    "#        return (mb_used//1024+1)*1024"
   ]
  },
  {
   "cell_type": "code",
   "execution_count": 52,
   "metadata": {},
   "outputs": [],
   "source": [
    "#use_of_plan['mb_used_rounded'] = use_of_plan['mb_used'].apply(round_mb_up) #aplicamos la función a mb_used para redondear"
   ]
  },
  {
   "cell_type": "markdown",
   "metadata": {},
   "source": [
    "<div class=\"alert alert-block alert-danger\">\n",
    "<b>Comentario del revisor (1ra Iteracion)</b> <a class=“tocSkip”></a>\n",
    "\n",
    "Para evitar el redondeo de esta forma es por lo que recomiendo en la parte de agregación hacer la transformación a GB, la información de tarifas está en USD per GB\n",
    "</div>"
   ]
  },
  {
   "cell_type": "markdown",
   "metadata": {},
   "source": [
    "<div class=\"alert alert-block alert-info\">\n",
    "<b>Respuesta del estudiante</b> <a class=“tocSkip”></a>\n",
    "Ya no es necesario el código de las 2 celdas de arriba, por eso están comentadas.\n",
    "</div>"
   ]
  },
  {
   "cell_type": "markdown",
   "metadata": {
    "id": "-jtyHzJb0q1I"
   },
   "source": [
    "## Estudia el comportamiento de usuario"
   ]
  },
  {
   "cell_type": "markdown",
   "metadata": {
    "id": "vtW4CJEe0q1J"
   },
   "source": [
    "### Llamadas"
   ]
  },
  {
   "cell_type": "code",
   "execution_count": 53,
   "metadata": {},
   "outputs": [],
   "source": [
    "mask_surf = use_of_plan['plan']=='surf' #se usan en muchos lados estas máscaras, voy a guardarlas\n",
    "mask_ultimate = use_of_plan['plan']=='ultimate'"
   ]
  },
  {
   "cell_type": "code",
   "execution_count": 54,
   "metadata": {
    "id": "Jf5v5--k0q1J"
   },
   "outputs": [
    {
     "data": {
      "image/png": "[encoded data removed]",
      "text/plain": [
       "<Figure size 640x480 with 1 Axes>"
      ]
     },
     "metadata": {},
     "output_type": "display_data"
    }
   ],
   "source": [
    "# Compara la duración promedio de llamadas por cada plan y por cada mes. Traza un gráfico de barras para visualizarla.\n",
    "plot = pd.concat([use_of_plan[mask_surf].groupby(['month'])['calls'].mean(),\n",
    "          use_of_plan[mask_ultimate].groupby(['month'])['calls'].mean()],axis=1)\n",
    "plot.columns = ['surf','ultimate']\n",
    "\n",
    "plot.plot(kind='bar',title=\"In month 2 (February) there has been more calls on average for the 'ultimate' plan.\\nBut in general the amount of calls is the same.\",xlabel='Months',ylabel='Average of calls per user')\n",
    "\n",
    "plt.show()"
   ]
  },
  {
   "cell_type": "code",
   "execution_count": 55,
   "metadata": {
    "id": "QoLqW1S_0q1J"
   },
   "outputs": [
    {
     "data": {
      "image/png": "[encoded data removed]",
      "text/plain": [
       "<Figure size 640x480 with 1 Axes>"
      ]
     },
     "metadata": {},
     "output_type": "display_data"
    }
   ],
   "source": [
    "# Compara el número de minutos mensuales que necesitan los usuarios de cada plan. Traza un histograma.\n",
    "\n",
    "use_of_plan[mask_surf]['sum_duration'].hist(bins=20,alpha=0.5)\n",
    "use_of_plan[mask_ultimate]['sum_duration'].hist(bins=20,alpha=0.5)\n",
    "\n",
    "plt.legend(['surf','ultimate'])\n",
    "plt.show()"
   ]
  },
  {
   "cell_type": "markdown",
   "metadata": {},
   "source": [
    "Se ven muy parecidos los histogramas de los 2 planes"
   ]
  },
  {
   "cell_type": "code",
   "execution_count": 56,
   "metadata": {
    "id": "oSndbAnt0q1K"
   },
   "outputs": [],
   "source": [
    "# Calcula la media y la varianza de la duración mensual de llamadas.\n",
    "\n",
    "mean_surf = use_of_plan[mask_surf]['sum_duration'].mean()\n",
    "mean_ultimate = use_of_plan[mask_ultimate]['sum_duration'].mean()\n",
    "\n",
    "var_surf = np.var(use_of_plan[mask_surf]['sum_duration'])\n",
    "var_ultimate = np.var(use_of_plan[mask_ultimate]['sum_duration'])"
   ]
  },
  {
   "cell_type": "code",
   "execution_count": 57,
   "metadata": {},
   "outputs": [
    {
     "name": "stdout",
     "output_type": "stream",
     "text": [
      "Surf:\n",
      " media minutos: 436.51974110032364\n",
      " varianza: 52537.03666530514\n",
      "Ultimate:\n",
      " media minutos: 434.67601683029454\n",
      " varianza: 56494.28633925357\n"
     ]
    }
   ],
   "source": [
    "print(f\"Surf:\\n media minutos: {mean_surf}\\n varianza: {var_surf}\")\n",
    "print(f\"Ultimate:\\n media minutos: {mean_ultimate}\\n varianza: {var_ultimate}\")"
   ]
  },
  {
   "cell_type": "code",
   "execution_count": 58,
   "metadata": {},
   "outputs": [],
   "source": [
    "months = dict(enumerate(['January','February','March','April','May','June','July','August','September','October','November','Dicember'],1)) #Para graficar"
   ]
  },
  {
   "cell_type": "code",
   "execution_count": 59,
   "metadata": {
    "id": "nZzoRUKc0q1K"
   },
   "outputs": [],
   "source": [
    "# Traza un diagrama de caja para visualizar la distribución de la duración mensual de llamadas\n",
    "\n",
    "plot = {month : list(use_of_plan[use_of_plan['month'] == num]['sum_duration']) for num,month in months.items()} #Filtrar para cada mes\n",
    "\n",
    "plot = pd.DataFrame(dict([(key, pd.Series(value)) for key, value in plot.items()])) #Un truco para hacer que todas las 'columnas' (duración por mes) tengan la misma longitud añadiendo NaN extras al final de la columna para igualar la columna más larga"
   ]
  },
  {
   "cell_type": "code",
   "execution_count": 60,
   "metadata": {},
   "outputs": [
    {
     "data": {
      "image/png": "[encoded data removed]",
      "text/plain": [
       "<Figure size 640x480 with 1 Axes>"
      ]
     },
     "metadata": {},
     "output_type": "display_data"
    }
   ],
   "source": [
    "plot.plot(kind='box',rot=45,ylabel='Duration of calls per month\\n(in minutes)')\n",
    "\n",
    "plt.show()"
   ]
  },
  {
   "cell_type": "markdown",
   "metadata": {
    "id": "r627zBO50q1K"
   },
   "source": [
    "Vemos que a medida que se acerca el fin de año, la duración de las llamadas aumenta. Puede ser por la temporada navideña."
   ]
  },
  {
   "cell_type": "markdown",
   "metadata": {},
   "source": [
    "<div class=\"alert alert-block alert-danger\">\n",
    "<b>Comentario del revisor (1ra Iteracion)</b> <a class=“tocSkip”></a>\n",
    "\n",
    "Los diagramas de cajas para internet, llamadas y mensajes debes mostrar en el eje X el mes y graficar un diagrama de caja por cada mes en cada dataset\n",
    "</div>"
   ]
  },
  {
   "cell_type": "markdown",
   "metadata": {},
   "source": [
    "<div class=\"alert alert-block alert-info\">\n",
    "<b>Respuesta del estudiante</b> <a class=“tocSkip”></a>\n",
    "Un poco complejo transformar la tabla en algo que pandas por defecto grafique todos los diagramas de caja en un gráfico, pero se logró.\n",
    "</div>"
   ]
  },
  {
   "cell_type": "markdown",
   "metadata": {
    "id": "8idKy8Wh0q1L"
   },
   "source": [
    "### Mensajes"
   ]
  },
  {
   "cell_type": "code",
   "execution_count": 61,
   "metadata": {
    "id": "NXLxiTit0q1L"
   },
   "outputs": [
    {
     "data": {
      "image/png": "[encoded data removed]",
      "text/plain": [
       "<Figure size 640x480 with 1 Axes>"
      ]
     },
     "metadata": {},
     "output_type": "display_data"
    }
   ],
   "source": [
    "# Comprara el número de mensajes que tienden a enviar cada mes los usuarios de cada plan\n",
    "\n",
    "plot = pd.concat([use_of_plan[mask_surf].groupby(['month'])['messages'].mean(),\n",
    "          use_of_plan[mask_ultimate].groupby(['month'])['messages'].mean()],axis=1)\n",
    "plot.columns = ['surf','ultimate']\n",
    "\n",
    "plot.plot(kind='bar',xlabel='Months',ylabel='Average of messages per user',title=\"We can see that 'ultimate' users on average send more messages compared to 'surf'\")\n",
    "plt.show()"
   ]
  },
  {
   "cell_type": "code",
   "execution_count": 62,
   "metadata": {},
   "outputs": [
    {
     "name": "stdout",
     "output_type": "stream",
     "text": [
      "Surf:\n",
      " media mensajes: 40.10965630114566\n",
      " varianza: 1090.4511506183685\n",
      "Ultimate:\n",
      " media mensajes: 46.29623287671233\n",
      " varianza: 1083.3249173156314\n"
     ]
    }
   ],
   "source": [
    "mean_surf = use_of_plan[mask_surf]['messages'].mean()\n",
    "mean_ultimate = use_of_plan[mask_ultimate]['messages'].mean()\n",
    "\n",
    "var_surf = np.var(use_of_plan[mask_surf]['messages'])\n",
    "var_ultimate = np.var(use_of_plan[mask_ultimate]['messages'])\n",
    "\n",
    "print(f\"Surf:\\n media mensajes: {mean_surf}\\n varianza: {var_surf}\")\n",
    "print(f\"Ultimate:\\n media mensajes: {mean_ultimate}\\n varianza: {var_ultimate}\")"
   ]
  },
  {
   "cell_type": "code",
   "execution_count": 63,
   "metadata": {},
   "outputs": [
    {
     "data": {
      "image/png": "[encoded data removed]",
      "text/plain": [
       "<Figure size 640x480 with 1 Axes>"
      ]
     },
     "metadata": {},
     "output_type": "display_data"
    }
   ],
   "source": [
    "plot = {month : list(use_of_plan[use_of_plan['month'] == num]['messages']) for num,month in months.items()}\n",
    "plot = pd.DataFrame(dict([(key, pd.Series(value)) for key, value in plot.items()]))\n",
    "plot.plot(kind='box',rot=45,ylabel='Messages sent per month')\n",
    "\n",
    "plt.show()"
   ]
  },
  {
   "cell_type": "markdown",
   "metadata": {
    "id": "390SSL480q1M"
   },
   "source": [
    "Los usuarios de `Ultimate` envían en promedio un poco más de mensajes que los usuarios de `Surf`, pero la diferencia es mínima, a lo mejor no sea suficiente como para decir que se comportan de manera distinta.\n",
    "\n",
    "También aumenta considerablemente la cantidad de mensajes a medida que se acerca el fin de año"
   ]
  },
  {
   "cell_type": "markdown",
   "metadata": {
    "id": "42YSypXz0q1M"
   },
   "source": [
    "### Internet"
   ]
  },
  {
   "cell_type": "code",
   "execution_count": 64,
   "metadata": {
    "id": "GRI_R7xF0q1L"
   },
   "outputs": [
    {
     "data": {
      "image/png": "[encoded data removed]",
      "text/plain": [
       "<Figure size 640x480 with 1 Axes>"
      ]
     },
     "metadata": {},
     "output_type": "display_data"
    }
   ],
   "source": [
    "# Compara la cantidad de tráfico de Internet consumido por usuarios por plan\n",
    "\n",
    "plot = pd.concat([use_of_plan[mask_surf].groupby(['month'])['gb_used'].mean(),\n",
    "          use_of_plan[mask_ultimate].groupby(['month'])['gb_used'].mean()],axis=1)\n",
    "plot.columns = ['surf','ultimate']\n",
    "\n",
    "plot.plot(kind='bar',xlabel='Months',ylabel='Average of gb used per user',title=\"Months 1-5 'ultimate' users used more gb, but for the rest of the year they used almost the same\")\n",
    "plt.show()"
   ]
  },
  {
   "cell_type": "code",
   "execution_count": 65,
   "metadata": {
    "id": "lSuKPtjh0q1M"
   },
   "outputs": [
    {
     "name": "stdout",
     "output_type": "stream",
     "text": [
      "Surf:\n",
      " media gb usados: 16.831193838254173\n",
      " varianza: 59.43556096242673\n",
      "Ultimate:\n",
      " media gb usados: 17.331015299026426\n",
      " varianza: 58.413377411448835\n"
     ]
    }
   ],
   "source": [
    "mean_surf = use_of_plan[mask_surf]['gb_used'].mean()\n",
    "mean_ultimate = use_of_plan[mask_ultimate]['gb_used'].mean()\n",
    "\n",
    "var_surf = np.var(use_of_plan[mask_surf]['gb_used'])\n",
    "var_ultimate = np.var(use_of_plan[mask_ultimate]['gb_used'])\n",
    "\n",
    "print(f\"Surf:\\n media gb usados: {mean_surf}\\n varianza: {var_surf}\")\n",
    "print(f\"Ultimate:\\n media gb usados: {mean_ultimate}\\n varianza: {var_ultimate}\")"
   ]
  },
  {
   "cell_type": "code",
   "execution_count": 66,
   "metadata": {
    "id": "wnh8jYXi0q1N"
   },
   "outputs": [
    {
     "data": {
      "image/png": "[encoded data removed]",
      "text/plain": [
       "<Figure size 640x480 with 1 Axes>"
      ]
     },
     "metadata": {},
     "output_type": "display_data"
    }
   ],
   "source": [
    "plot = {month : list(use_of_plan[use_of_plan['month'] == num]['gb_used']) for num,month in months.items()}\n",
    "plot = pd.DataFrame(dict([(key, pd.Series(value)) for key, value in plot.items()]))\n",
    "plot.plot(kind='box',rot=45,ylabel='GB used per month')\n",
    "\n",
    "plt.show()"
   ]
  },
  {
   "cell_type": "markdown",
   "metadata": {
    "id": "UN9zwuMP0q1N"
   },
   "source": [
    "La mayoría de los usuarios usan entre 10 y 20 GB al mes, por las medias de `surf` y `ultimate` podemos ver que los usuarios de `ultimate` usan ligeramente más datos. También se aprecia eso en el `barplot`, pero sólo para los primeros meses. La diferencia podría no ser estadisticamente significativa."
   ]
  },
  {
   "cell_type": "markdown",
   "metadata": {},
   "source": [
    "También aumenta a medida que avanza el año"
   ]
  },
  {
   "cell_type": "markdown",
   "metadata": {},
   "source": [
    "<div class=\"alert alert-block alert-danger\">\n",
    "<b>Comentario del revisor (1ra Iteracion)</b> <a class=“tocSkip”></a>\n",
    "\n",
    "Bien analizada esta parte! Pero, cómo mencione antes, para tener más detalle los diagramas de caja deberían ser uno por cada mes (en la misma gráfica) para internet, llamadas y mensajes\n",
    "</div>"
   ]
  },
  {
   "cell_type": "markdown",
   "metadata": {},
   "source": [
    "<div class=\"alert alert-block alert-info\">\n",
    "<b>Respuesta del estudiante</b> <a class=“tocSkip”></a>\n",
    "Modificación echa tanto para internet, llamadas y mensajes\n",
    "</div>"
   ]
  },
  {
   "cell_type": "markdown",
   "metadata": {
    "id": "tCijq3260q1N"
   },
   "source": [
    "## Ingreso"
   ]
  },
  {
   "cell_type": "code",
   "execution_count": 67,
   "metadata": {
    "id": "tz-dq_V00q1O"
   },
   "outputs": [],
   "source": [
    "total_per_user_with_plan = pd.merge(total_per_user,df_users,how='left',left_index=True,right_on='user_id').loc[:,['total','plan']]"
   ]
  },
  {
   "cell_type": "code",
   "execution_count": 68,
   "metadata": {
    "id": "0Y1v8ZUz0q1P"
   },
   "outputs": [],
   "source": [
    "mask_surf = total_per_user_with_plan['plan'] == 'surf'\n",
    "mask_ultimate = total_per_user_with_plan['plan'] == 'ultimate'"
   ]
  },
  {
   "cell_type": "code",
   "execution_count": 69,
   "metadata": {
    "id": "bYmwxyVh0q1P"
   },
   "outputs": [
    {
     "name": "stdout",
     "output_type": "stream",
     "text": [
      "Surf:\n",
      " media de ingresos por usuario: 286.7603003003003\n",
      " varianza: 83966.11419210202\n",
      "Ultimate:\n",
      " media de ingresos por usuario: 331.63057324840764\n",
      " varianza: 50044.55142196439\n"
     ]
    }
   ],
   "source": [
    "mean_surf = total_per_user_with_plan[mask_surf]['total'].mean()\n",
    "mean_ultimate = total_per_user_with_plan[mask_ultimate]['total'].mean()\n",
    "\n",
    "var_surf = np.var(total_per_user_with_plan[mask_surf]['total'])\n",
    "var_ultimate = np.var(total_per_user_with_plan[mask_ultimate]['total'])\n",
    "\n",
    "print(f\"Surf:\\n media de ingresos por usuario: {mean_surf}\\n varianza: {var_surf}\")\n",
    "print(f\"Ultimate:\\n media de ingresos por usuario: {mean_ultimate}\\n varianza: {var_ultimate}\")"
   ]
  },
  {
   "cell_type": "code",
   "execution_count": 70,
   "metadata": {},
   "outputs": [
    {
     "data": {
      "image/png": "[encoded data removed]",
      "text/plain": [
       "<Figure size 640x480 with 2 Axes>"
      ]
     },
     "metadata": {},
     "output_type": "display_data"
    }
   ],
   "source": [
    "plt.subplot(1,2,1)\n",
    "\n",
    "total_per_user_with_plan[mask_surf]['total'].plot(kind='hist',title='surf',bins=20)\n",
    "\n",
    "plt.subplot(1,2,2)\n",
    "total_per_user_with_plan[mask_ultimate]['total'].plot(kind='hist',title='ultimate',bins=20)\n",
    "\n",
    "plt.show()"
   ]
  },
  {
   "cell_type": "code",
   "execution_count": 71,
   "metadata": {},
   "outputs": [
    {
     "data": {
      "image/png": "[encoded data removed]",
      "text/plain": [
       "<Figure size 640x480 with 2 Axes>"
      ]
     },
     "metadata": {},
     "output_type": "display_data"
    }
   ],
   "source": [
    "plt.subplot(1,2,1)\n",
    "\n",
    "total_per_user_with_plan[mask_surf]['total'].plot(kind='box',title='surf',ylim=(0,1800))\n",
    "\n",
    "plt.subplot(1,2,2)\n",
    "total_per_user_with_plan[mask_ultimate]['total'].plot(kind='box',title='ultimate',ylim=(0,1800))\n",
    "\n",
    "plt.show()"
   ]
  },
  {
   "cell_type": "code",
   "execution_count": 72,
   "metadata": {},
   "outputs": [
    {
     "data": {
      "image/png": "[encoded data removed]",
      "text/plain": [
       "<Figure size 640x480 with 1 Axes>"
      ]
     },
     "metadata": {},
     "output_type": "display_data"
    }
   ],
   "source": [
    "total_per_user_with_plan['total'].plot(kind='box')\n",
    "\n",
    "plt.show()"
   ]
  },
  {
   "cell_type": "markdown",
   "metadata": {
    "id": "KAFidcXZ0q1P"
   },
   "source": [
    "La mayoría de los datos están entre 100 y 300 dólares de ingreso anual. La media de ingresos de `surf` es menor que la de `ultimate`."
   ]
  },
  {
   "cell_type": "markdown",
   "metadata": {
    "id": "ajJ7VKeI0q1Q"
   },
   "source": [
    "## Prueba las hipótesis estadísticas"
   ]
  },
  {
   "cell_type": "markdown",
   "metadata": {},
   "source": [
    "Hipótesis nula = Los ingresos son iguales\n",
    "\n",
    "Hipótesis alternativa = Los ingresos son diferentes\n",
    "\n",
    "alfa = 0.05 (equivocarnos en el 5% de los casos no representa perdidas significativas para la empresa)\n",
    "\n",
    "prueba estadistica = ttest para 2 muestras independientes"
   ]
  },
  {
   "cell_type": "code",
   "execution_count": 73,
   "metadata": {},
   "outputs": [],
   "source": [
    "import scipy.stats as st"
   ]
  },
  {
   "cell_type": "code",
   "execution_count": 74,
   "metadata": {
    "id": "nFoPNlPq0q1R"
   },
   "outputs": [
    {
     "data": {
      "text/plain": [
       "np.float64(0.08775764993343417)"
      ]
     },
     "execution_count": 74,
     "metadata": {},
     "output_type": "execute_result"
    }
   ],
   "source": [
    "# Prueba las hipótesis\n",
    "\n",
    "surf = total_per_user_with_plan[mask_surf]['total']\n",
    "ultimate = total_per_user_with_plan[mask_ultimate]['total']\n",
    "\n",
    "results = st.ttest_ind(surf,ultimate)\n",
    "\n",
    "results.pvalue"
   ]
  },
  {
   "cell_type": "markdown",
   "metadata": {},
   "source": [
    "Nuestra prueba nos dió un valor p de 8.7%, lo que significa que no podemos rechazar la hipótesis nula:\n",
    "\n",
    "Hipótesis nula: los ingresos son iguales"
   ]
  },
  {
   "cell_type": "markdown",
   "metadata": {},
   "source": [
    "=========================================================================================\n",
    "\n",
    "Hipótesis nula = El ingreso del área NY-NJ es igual al resto\n",
    "\n",
    "Hipótesis alternativa = El ingreso del área NY-NJ es diferente\n",
    "\n",
    "alfa = 0.05\n",
    "\n",
    "prueba estadistica = ttest para 2 muestras independientes"
   ]
  },
  {
   "cell_type": "code",
   "execution_count": 75,
   "metadata": {},
   "outputs": [],
   "source": [
    "#Hasta ahorita no he necesitado información de regiones, tengo que asociar el área al usuario como lo hice con el plan, para luego hacer un filtro y tener ambos conjuntos.\n",
    "\n",
    "total_per_user_with_area = pd.merge(total_per_user,df_users,how='left',left_index=True,right_on='user_id').loc[:,['total','city']]"
   ]
  },
  {
   "cell_type": "code",
   "execution_count": 76,
   "metadata": {},
   "outputs": [],
   "source": [
    "ny_nj = total_per_user_with_area[total_per_user_with_area['city'] == 'New York-Newark-Jersey City, NY-NJ-PA MSA']\n",
    "rest = total_per_user_with_area[~(total_per_user_with_area['city'] == 'New York-Newark-Jersey City, NY-NJ-PA MSA')]"
   ]
  },
  {
   "cell_type": "code",
   "execution_count": 77,
   "metadata": {
    "id": "Cqcj7wrZ0q1S"
   },
   "outputs": [
    {
     "data": {
      "text/plain": [
       "np.float64(0.5877641547620804)"
      ]
     },
     "execution_count": 77,
     "metadata": {},
     "output_type": "execute_result"
    }
   ],
   "source": [
    "# Prueba las hipótesis\n",
    "\n",
    "results = st.ttest_ind(ny_nj['total'],rest['total'])\n",
    "\n",
    "results.pvalue"
   ]
  },
  {
   "cell_type": "markdown",
   "metadata": {},
   "source": [
    "Nuestro valor p es de 58%, lo cual significa que muy probablemente el área de `Nueva York-Nueva Jersey` se comporte de manera similar al resto, no podemos rechazar la hipótesis nula."
   ]
  },
  {
   "cell_type": "markdown",
   "metadata": {},
   "source": [
    "<div class=\"alert alert-block alert-success\">\n",
    "<b>Comentario del revisor (1ra Iteracion)</b> <a class=“tocSkip”></a>\n",
    "\n",
    "Muy bien aplicada la prueba estadística para revisar si hay diferencias entre los ingresos de cada plan y ciudad!\n",
    "</div>"
   ]
  },
  {
   "cell_type": "markdown",
   "metadata": {
    "id": "bbTR8UQO0q1T"
   },
   "source": [
    "## Conclusión general\n",
    "\n",
    "En conclusión, los clientes de `ultimate` y de `surf` no aportan ingresos lo suficientemente distintos como para poder decir con 95% de seguridad de que en verdad sean distintos (aunque se estuvo muy cerca de decir que sí)\n",
    "\n",
    "Para la parte del análisis por área, `Nueva York-Nueva Jersey` se comporta muy parecido a como se comporta el resto de los datos tomados."
   ]
  },
  {
   "cell_type": "markdown",
   "metadata": {},
   "source": [
    "<div class=\"alert alert-block alert-danger\">\n",
    "<b>Comentario general</b> <a class=“tocSkip”></a>\n",
    "    \n",
    "\n",
    "Vas por un buen camino Nikolai! Hay ciertos puntos donde hay oportunidad de mejora, te he dejado mis comentarios con algunas recomendaciones para tu próxima iteracion.\n",
    "<br>\n",
    "<br>\n",
    "Han sido pocos los puntos que he identificado pero son necesarios para que tu análisis esté completo. Pero has hecho un buen trabajo hasta este punto y redactaste muy buenas conclusiones en cada parte lo cual es importante para entender a que resolución se llegó revisando los datos. \n",
    "<br>\n",
    "Se que tendrás mejores resultados en tu siguiente iteración.\n",
    "<br>\n",
    "Un saludo! 🦾\n",
    "</div>"
   ]
  },
  {
   "cell_type": "markdown",
   "metadata": {},
   "source": [
    "<div class=\"alert alert-block alert-info\">\n",
    "<b>Respuesta del estudiante</b> <a class=“tocSkip”></a>\n",
    "Ya hice las modificaciones que me indicaste!\n",
    "</div>"
   ]
  }
 ],
 "metadata": {
  "ExecuteTimeLog": [
   {
    "duration": 828,
    "start_time": "2021-11-16T09:21:11.304Z"
   },
   {
    "duration": 893,
    "start_time": "2021-11-16T09:21:17.728Z"
   },
   {
    "duration": 1150,
    "start_time": "2021-11-16T09:21:29.568Z"
   },
   {
    "duration": 3,
    "start_time": "2021-11-16T09:24:14.495Z"
   },
   {
    "duration": 120,
    "start_time": "2021-11-16T09:24:46.630Z"
   },
   {
    "duration": 3,
    "start_time": "2021-11-16T09:28:27.882Z"
   },
   {
    "duration": 4,
    "start_time": "2021-11-16T09:29:54.281Z"
   },
   {
    "duration": 3,
    "start_time": "2021-11-16T09:30:45.936Z"
   },
   {
    "duration": 4,
    "start_time": "2021-11-16T09:31:06.300Z"
   },
   {
    "duration": 113,
    "start_time": "2021-11-16T09:31:37.208Z"
   },
   {
    "duration": 143,
    "start_time": "2021-11-16T09:31:48.656Z"
   },
   {
    "duration": 98,
    "start_time": "2021-11-16T09:31:55.678Z"
   },
   {
    "duration": 3,
    "start_time": "2021-11-16T09:32:08.535Z"
   },
   {
    "duration": 111,
    "start_time": "2021-11-16T09:32:10.120Z"
   },
   {
    "duration": 3,
    "start_time": "2021-11-16T09:32:15.732Z"
   },
   {
    "duration": 4,
    "start_time": "2021-11-16T09:32:29.423Z"
   },
   {
    "duration": 3,
    "start_time": "2021-11-16T10:03:03.074Z"
   },
   {
    "duration": 3,
    "start_time": "2021-11-16T10:10:01.288Z"
   },
   {
    "duration": 3,
    "start_time": "2021-11-16T10:10:46.923Z"
   },
   {
    "duration": 121,
    "start_time": "2021-11-16T10:37:46.494Z"
   },
   {
    "duration": 125,
    "start_time": "2021-11-16T10:38:20.632Z"
   },
   {
    "duration": 112,
    "start_time": "2021-11-16T10:46:53.001Z"
   },
   {
    "duration": 110,
    "start_time": "2021-11-16T10:48:25.775Z"
   },
   {
    "duration": 3,
    "start_time": "2021-11-16T10:50:18.720Z"
   },
   {
    "duration": 4,
    "start_time": "2021-11-16T10:50:37.649Z"
   },
   {
    "duration": 2,
    "start_time": "2021-11-16T10:50:51.884Z"
   },
   {
    "duration": 3,
    "start_time": "2021-11-16T10:51:56.237Z"
   },
   {
    "duration": 101,
    "start_time": "2021-11-16T10:53:13.791Z"
   },
   {
    "duration": 3,
    "start_time": "2021-11-16T10:55:59.186Z"
   },
   {
    "duration": 3,
    "start_time": "2021-11-16T10:56:10.751Z"
   },
   {
    "duration": 3,
    "start_time": "2021-11-16T10:56:49.038Z"
   },
   {
    "duration": 3,
    "start_time": "2021-11-16T10:56:49.174Z"
   },
   {
    "duration": 4,
    "start_time": "2021-11-16T10:56:49.414Z"
   },
   {
    "duration": 3,
    "start_time": "2021-11-16T10:56:49.680Z"
   },
   {
    "duration": 3,
    "start_time": "2021-11-16T10:56:50.370Z"
   },
   {
    "duration": 114,
    "start_time": "2021-11-16T10:59:34.518Z"
   },
   {
    "duration": 3,
    "start_time": "2021-11-16T11:01:41.201Z"
   },
   {
    "duration": 116,
    "start_time": "2021-11-16T11:01:48.754Z"
   },
   {
    "duration": 3,
    "start_time": "2021-11-16T11:02:16.685Z"
   },
   {
    "duration": 3,
    "start_time": "2021-11-16T11:02:19.479Z"
   },
   {
    "duration": 3,
    "start_time": "2021-11-16T11:02:47.067Z"
   },
   {
    "duration": 3,
    "start_time": "2021-11-16T11:02:49.353Z"
   },
   {
    "duration": 3,
    "start_time": "2021-11-16T11:03:07.835Z"
   },
   {
    "duration": 3,
    "start_time": "2021-11-16T11:03:07.953Z"
   },
   {
    "duration": 112,
    "start_time": "2021-11-16T11:07:52.072Z"
   },
   {
    "duration": 187,
    "start_time": "2021-11-16T11:09:23.468Z"
   },
   {
    "duration": 4,
    "start_time": "2021-11-16T11:10:01.455Z"
   },
   {
    "duration": 3,
    "start_time": "2021-11-16T11:10:05.069Z"
   },
   {
    "duration": 4,
    "start_time": "2021-11-16T11:10:13.376Z"
   },
   {
    "duration": 3,
    "start_time": "2021-11-16T11:10:14.434Z"
   },
   {
    "duration": 3,
    "start_time": "2021-11-16T11:10:22.853Z"
   },
   {
    "duration": 4,
    "start_time": "2021-11-16T11:27:29.279Z"
   },
   {
    "duration": 4,
    "start_time": "2021-11-16T11:29:08.919Z"
   },
   {
    "duration": 118,
    "start_time": "2021-11-16T11:29:46.703Z"
   },
   {
    "duration": 437,
    "start_time": "2021-11-16T11:36:02.181Z"
   },
   {
    "duration": 157,
    "start_time": "2021-11-16T11:36:14.388Z"
   },
   {
    "duration": 207,
    "start_time": "2021-11-16T11:47:15.898Z"
   },
   {
    "duration": 3,
    "start_time": "2021-11-16T11:53:52.092Z"
   },
   {
    "duration": 3,
    "start_time": "2021-11-16T11:53:52.236Z"
   },
   {
    "duration": 3,
    "start_time": "2021-11-16T11:59:12.005Z"
   },
   {
    "duration": 112,
    "start_time": "2021-11-16T12:00:33.446Z"
   },
   {
    "duration": 3,
    "start_time": "2021-11-16T12:02:14.453Z"
   },
   {
    "duration": 3,
    "start_time": "2021-11-16T12:02:39.512Z"
   },
   {
    "duration": 106,
    "start_time": "2021-11-16T12:03:03.460Z"
   },
   {
    "duration": 3,
    "start_time": "2021-11-17T20:37:21.139Z"
   },
   {
    "duration": 3,
    "start_time": "2021-11-17T20:37:22.229Z"
   },
   {
    "duration": 3,
    "start_time": "2021-11-17T20:38:38.806Z"
   },
   {
    "duration": 3,
    "start_time": "2021-11-17T20:38:41.958Z"
   },
   {
    "duration": 3,
    "start_time": "2021-11-17T20:43:46.551Z"
   },
   {
    "duration": 4,
    "start_time": "2021-11-17T20:58:21.835Z"
   },
   {
    "duration": 3,
    "start_time": "2021-11-17T20:59:21.872Z"
   },
   {
    "duration": 4,
    "start_time": "2021-11-17T20:59:45.352Z"
   },
   {
    "duration": 4,
    "start_time": "2021-11-17T20:59:49.646Z"
   },
   {
    "duration": 159,
    "start_time": "2021-11-17T21:02:26.949Z"
   },
   {
    "duration": 3,
    "start_time": "2021-11-17T21:03:53.461Z"
   },
   {
    "duration": 3,
    "start_time": "2021-11-17T21:03:53.694Z"
   },
   {
    "duration": 3,
    "start_time": "2021-11-17T21:05:28.145Z"
   },
   {
    "duration": 116,
    "start_time": "2021-11-17T21:05:57.787Z"
   },
   {
    "duration": 3,
    "start_time": "2021-11-17T21:06:37.993Z"
   },
   {
    "duration": 3,
    "start_time": "2021-11-17T21:06:38.261Z"
   },
   {
    "duration": 3,
    "start_time": "2021-11-17T21:11:54.358Z"
   },
   {
    "duration": 3,
    "start_time": "2021-11-17T21:12:43.846Z"
   },
   {
    "duration": 4,
    "start_time": "2021-11-17T21:13:08.773Z"
   },
   {
    "duration": 3,
    "start_time": "2021-11-17T21:14:44.441Z"
   },
   {
    "duration": 3,
    "start_time": "2021-11-17T21:15:42.059Z"
   },
   {
    "duration": 4,
    "start_time": "2021-11-17T21:15:51.995Z"
   },
   {
    "duration": 3,
    "start_time": "2021-11-17T21:15:53.923Z"
   },
   {
    "duration": 3,
    "start_time": "2021-11-17T21:15:55.282Z"
   },
   {
    "duration": 3,
    "start_time": "2021-11-17T21:16:28.492Z"
   },
   {
    "duration": 3,
    "start_time": "2021-11-17T21:16:32.603Z"
   },
   {
    "duration": 3,
    "start_time": "2021-11-17T21:17:06.941Z"
   },
   {
    "duration": 98,
    "start_time": "2021-11-17T21:18:05.733Z"
   },
   {
    "duration": 4,
    "start_time": "2021-11-17T21:21:35.255Z"
   },
   {
    "duration": 3,
    "start_time": "2021-11-17T21:21:37.804Z"
   },
   {
    "duration": 4,
    "start_time": "2021-11-17T21:23:06.071Z"
   },
   {
    "duration": 3,
    "start_time": "2021-11-17T21:23:24.799Z"
   },
   {
    "duration": 3,
    "start_time": "2021-11-17T21:23:32.591Z"
   },
   {
    "duration": 98,
    "start_time": "2021-11-17T21:28:31.559Z"
   },
   {
    "duration": 3,
    "start_time": "2021-11-17T21:28:45.448Z"
   },
   {
    "duration": 3,
    "start_time": "2021-11-17T21:29:17.303Z"
   },
   {
    "duration": 3,
    "start_time": "2021-11-17T21:29:29.617Z"
   },
   {
    "duration": 3,
    "start_time": "2021-11-17T21:29:32.681Z"
   },
   {
    "duration": 3,
    "start_time": "2021-11-17T21:36:11.474Z"
   },
   {
    "duration": 3,
    "start_time": "2021-11-17T21:36:14.791Z"
   },
   {
    "duration": 3,
    "start_time": "2021-11-17T21:36:53.943Z"
   },
   {
    "duration": 3,
    "start_time": "2021-11-17T21:36:56.165Z"
   },
   {
    "duration": 4,
    "start_time": "2021-11-17T21:37:16.590Z"
   },
   {
    "duration": 3,
    "start_time": "2021-11-17T21:37:22.702Z"
   },
   {
    "duration": 4,
    "start_time": "2021-11-17T21:38:03.479Z"
   },
   {
    "duration": 3,
    "start_time": "2021-11-17T21:38:08.601Z"
   },
   {
    "duration": 3,
    "start_time": "2021-11-17T21:38:12.928Z"
   },
   {
    "duration": 3,
    "start_time": "2021-11-17T21:38:48.896Z"
   },
   {
    "duration": 2,
    "start_time": "2021-11-17T21:38:49.171Z"
   },
   {
    "duration": 4,
    "start_time": "2021-11-17T21:39:57.889Z"
   },
   {
    "duration": 3,
    "start_time": "2021-11-17T21:39:58.057Z"
   },
   {
    "duration": 3,
    "start_time": "2021-11-17T21:41:20.108Z"
   },
   {
    "duration": 3,
    "start_time": "2021-11-17T21:41:20.629Z"
   },
   {
    "duration": 3,
    "start_time": "2021-11-17T21:42:49.136Z"
   },
   {
    "duration": 3,
    "start_time": "2021-11-17T21:43:15.137Z"
   },
   {
    "duration": 4,
    "start_time": "2021-11-17T21:43:16.766Z"
   },
   {
    "duration": 4,
    "start_time": "2021-11-17T21:43:31.711Z"
   },
   {
    "duration": 3,
    "start_time": "2021-11-17T21:43:36.312Z"
   },
   {
    "duration": 4,
    "start_time": "2021-11-17T21:45:08.825Z"
   },
   {
    "duration": 4,
    "start_time": "2021-11-17T21:45:10.119Z"
   },
   {
    "duration": 4,
    "start_time": "2021-11-17T21:45:13.748Z"
   },
   {
    "duration": 3,
    "start_time": "2021-11-17T21:45:22.219Z"
   },
   {
    "duration": 3,
    "start_time": "2021-11-17T21:45:33.412Z"
   },
   {
    "duration": 2,
    "start_time": "2021-11-17T21:46:01.885Z"
   },
   {
    "duration": 3,
    "start_time": "2021-11-17T21:46:03.628Z"
   },
   {
    "duration": 107,
    "start_time": "2021-11-17T21:47:32.512Z"
   },
   {
    "duration": 103,
    "start_time": "2021-11-17T21:50:36.243Z"
   },
   {
    "duration": 3,
    "start_time": "2021-11-18T06:28:31.440Z"
   },
   {
    "duration": 3,
    "start_time": "2021-11-18T06:29:00.168Z"
   },
   {
    "duration": 3,
    "start_time": "2021-11-18T06:31:27.008Z"
   },
   {
    "duration": 2,
    "start_time": "2021-11-18T06:35:34.288Z"
   },
   {
    "duration": 2,
    "start_time": "2021-11-18T06:38:04.527Z"
   },
   {
    "duration": 794,
    "start_time": "2024-11-20T20:49:21.498Z"
   },
   {
    "duration": 214,
    "start_time": "2024-11-20T20:49:22.295Z"
   },
   {
    "duration": 9,
    "start_time": "2024-11-20T20:49:22.511Z"
   },
   {
    "duration": 9,
    "start_time": "2024-11-20T20:49:22.522Z"
   },
   {
    "duration": 10,
    "start_time": "2024-11-20T20:49:22.534Z"
   },
   {
    "duration": 9,
    "start_time": "2024-11-20T20:49:22.546Z"
   },
   {
    "duration": 4,
    "start_time": "2024-11-20T20:49:22.570Z"
   },
   {
    "duration": 4,
    "start_time": "2024-11-20T20:49:22.576Z"
   },
   {
    "duration": 3,
    "start_time": "2024-11-20T20:49:22.582Z"
   },
   {
    "duration": 9,
    "start_time": "2024-11-20T20:49:22.587Z"
   },
   {
    "duration": 5,
    "start_time": "2024-11-20T20:49:22.598Z"
   },
   {
    "duration": 4,
    "start_time": "2024-11-20T20:49:22.606Z"
   },
   {
    "duration": 11,
    "start_time": "2024-11-20T20:49:22.612Z"
   },
   {
    "duration": 51,
    "start_time": "2024-11-20T20:49:22.627Z"
   },
   {
    "duration": 10,
    "start_time": "2024-11-20T20:49:22.679Z"
   },
   {
    "duration": 16,
    "start_time": "2024-11-20T20:49:22.690Z"
   },
   {
    "duration": 5,
    "start_time": "2024-11-20T20:49:22.707Z"
   },
   {
    "duration": 20,
    "start_time": "2024-11-20T20:49:22.714Z"
   },
   {
    "duration": 35,
    "start_time": "2024-11-20T20:49:22.735Z"
   },
   {
    "duration": 14,
    "start_time": "2024-11-20T20:49:22.771Z"
   },
   {
    "duration": 4,
    "start_time": "2024-11-20T20:49:22.786Z"
   },
   {
    "duration": 11,
    "start_time": "2024-11-20T20:49:22.792Z"
   },
   {
    "duration": 7,
    "start_time": "2024-11-20T20:49:22.805Z"
   },
   {
    "duration": 9,
    "start_time": "2024-11-20T20:49:22.814Z"
   },
   {
    "duration": 46,
    "start_time": "2024-11-20T20:49:22.824Z"
   },
   {
    "duration": 10,
    "start_time": "2024-11-20T20:49:22.871Z"
   },
   {
    "duration": 14,
    "start_time": "2024-11-20T20:49:22.882Z"
   },
   {
    "duration": 14,
    "start_time": "2024-11-20T20:49:22.898Z"
   },
   {
    "duration": 12,
    "start_time": "2024-11-20T20:49:22.913Z"
   },
   {
    "duration": 15,
    "start_time": "2024-11-20T20:49:22.927Z"
   },
   {
    "duration": 37,
    "start_time": "2024-11-20T20:49:22.944Z"
   },
   {
    "duration": 8,
    "start_time": "2024-11-20T20:49:22.983Z"
   },
   {
    "duration": 11,
    "start_time": "2024-11-20T20:49:22.992Z"
   },
   {
    "duration": 10,
    "start_time": "2024-11-20T20:49:23.004Z"
   },
   {
    "duration": 9,
    "start_time": "2024-11-20T20:49:23.016Z"
   },
   {
    "duration": 45,
    "start_time": "2024-11-20T20:49:23.026Z"
   },
   {
    "duration": 12,
    "start_time": "2024-11-20T20:49:23.072Z"
   },
   {
    "duration": 3,
    "start_time": "2024-11-20T20:49:23.085Z"
   },
   {
    "duration": 3,
    "start_time": "2024-11-20T20:49:23.089Z"
   },
   {
    "duration": 8,
    "start_time": "2024-11-20T20:49:23.094Z"
   },
   {
    "duration": 16,
    "start_time": "2024-11-20T20:49:23.106Z"
   },
   {
    "duration": 2,
    "start_time": "2024-11-20T20:49:23.124Z"
   },
   {
    "duration": 4,
    "start_time": "2024-11-20T20:49:23.128Z"
   },
   {
    "duration": 38,
    "start_time": "2024-11-20T20:49:23.133Z"
   },
   {
    "duration": 63,
    "start_time": "2024-11-20T20:49:23.172Z"
   },
   {
    "duration": 33,
    "start_time": "2024-11-20T20:49:23.237Z"
   },
   {
    "duration": 4,
    "start_time": "2024-11-20T20:49:23.271Z"
   },
   {
    "duration": 4,
    "start_time": "2024-11-20T20:49:23.276Z"
   },
   {
    "duration": 3,
    "start_time": "2024-11-20T20:49:23.282Z"
   },
   {
    "duration": 4,
    "start_time": "2024-11-20T20:49:23.286Z"
   },
   {
    "duration": 220,
    "start_time": "2024-11-20T20:49:23.292Z"
   },
   {
    "duration": 157,
    "start_time": "2024-11-20T20:49:23.514Z"
   },
   {
    "duration": 6,
    "start_time": "2024-11-20T20:49:23.673Z"
   },
   {
    "duration": 3,
    "start_time": "2024-11-20T20:49:23.680Z"
   },
   {
    "duration": 101,
    "start_time": "2024-11-20T20:49:23.685Z"
   },
   {
    "duration": 225,
    "start_time": "2024-11-20T20:49:23.788Z"
   },
   {
    "duration": 7,
    "start_time": "2024-11-20T20:49:24.015Z"
   },
   {
    "duration": 87,
    "start_time": "2024-11-20T20:49:24.023Z"
   },
   {
    "duration": 183,
    "start_time": "2024-11-20T20:49:24.111Z"
   },
   {
    "duration": 6,
    "start_time": "2024-11-20T20:49:24.296Z"
   },
   {
    "duration": 100,
    "start_time": "2024-11-20T20:49:24.303Z"
   },
   {
    "duration": 7,
    "start_time": "2024-11-20T20:49:24.405Z"
   },
   {
    "duration": 3,
    "start_time": "2024-11-20T20:49:24.414Z"
   },
   {
    "duration": 5,
    "start_time": "2024-11-20T20:49:24.419Z"
   },
   {
    "duration": 196,
    "start_time": "2024-11-20T20:49:24.425Z"
   },
   {
    "duration": 150,
    "start_time": "2024-11-20T20:49:24.623Z"
   },
   {
    "duration": 84,
    "start_time": "2024-11-20T20:49:24.774Z"
   },
   {
    "duration": 3,
    "start_time": "2024-11-20T20:49:24.870Z"
   },
   {
    "duration": 5,
    "start_time": "2024-11-20T20:49:24.874Z"
   },
   {
    "duration": 6,
    "start_time": "2024-11-20T20:49:24.881Z"
   },
   {
    "duration": 4,
    "start_time": "2024-11-20T20:49:24.889Z"
   },
   {
    "duration": 5,
    "start_time": "2024-11-20T20:49:24.894Z"
   },
   {
    "duration": 269,
    "start_time": "2024-11-20T20:49:41.039Z"
   },
   {
    "duration": 7,
    "start_time": "2024-11-20T20:49:43.068Z"
   },
   {
    "duration": 7,
    "start_time": "2024-11-20T20:49:53.643Z"
   }
  ],
  "colab": {
   "provenance": []
  },
  "kernelspec": {
   "display_name": "Python 3",
   "language": "python",
   "name": "python3"
  },
  "language_info": {
   "codemirror_mode": {
    "name": "ipython",
    "version": 3
   },
   "file_extension": ".py",
   "mimetype": "text/x-python",
   "name": "python",
   "nbconvert_exporter": "python",
   "pygments_lexer": "ipython3",
   "version": "3.12.6"
  },
  "toc": {
   "base_numbering": 1,
   "nav_menu": {},
   "number_sections": true,
   "sideBar": true,
   "skip_h1_title": false,
   "title_cell": "Table of Contents",
   "title_sidebar": "Contents",
   "toc_cell": false,
   "toc_position": {},
   "toc_section_display": true,
   "toc_window_display": true
  }
 },
 "nbformat": 4,
 "nbformat_minor": 1
}
